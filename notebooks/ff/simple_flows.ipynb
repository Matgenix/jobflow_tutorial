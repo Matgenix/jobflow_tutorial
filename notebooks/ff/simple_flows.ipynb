{
 "cells": [
  {
   "cell_type": "markdown",
   "id": "a4d7a872-48a7-4aa8-90a4-86a89ec1b460",
   "metadata": {},
   "source": [
    "# Atomate2 introduction"
   ]
  },
  {
   "cell_type": "markdown",
   "id": "896c7251-767e-4f39-bb6e-5eb79371084b",
   "metadata": {
    "jp-MarkdownHeadingCollapsed": true
   },
   "source": [
    "Atomate2 is an open-source library providing computational workflows for automating first-principles and machine-learned based calculations.\n",
    "Supported DFT codes include\n",
    "\n",
    "- ABINIT\n",
    "- CP2K\n",
    "- FHI-AIMS\n",
    "- JDFTx\n",
    "- Q-Chem\n",
    "- VASP\n",
    "\n",
    "but in this example only MLFF will be considered, as they are fast to execute and need less set up installation.\n",
    "  \n",
    "\n",
    "## MLIP based workflows\n",
    "\n",
    "Workflows using MLIPs like MACE, CHGNET, M3GNET, GAP, NEP, SevenNet are available for:\n",
    "\n",
    "- relaxation\n",
    "- molecular dynamics\n",
    "- equation of state\n",
    "- elastic tensor\n",
    "- phonons and Grüneisen parameter computations using [phonopy](https://github.com/phonopy/phonopy)\n",
    "\n",
    "It is easy to customise and compose any of the above workflows."
   ]
  },
  {
   "cell_type": "markdown",
   "id": "0b9779d7-f842-4c1e-b885-10a919484dd2",
   "metadata": {},
   "source": [
    "# Installation and Setup "
   ]
  },
  {
   "cell_type": "markdown",
   "id": "e5d2b109-6e2c-4abc-a290-0cbd5bb8c928",
   "metadata": {},
   "source": [
    "Typically, before using workflows available in atomate2, you will need to create a Python environment with the necessary packages and set some configuration files where you specify details like a path to VASP binary and your database information like collection names, usernames, passwords, etc. You can find this in the [atomate2 documentation](https://materialsproject.github.io/atomate2/user/install.html).\n",
    "\n",
    "\n",
    "This has already been set up in the Docker container, so we can directly create workflows and submit them to the local or slurm worker. We will use [jobflow-remote](https://github.com/Matgenix/jobflow-remote) to manage and execute workflows. However, you can also use [Fireworks](https://materialsproject.github.io/atomate2/user/fireworks.html)."
   ]
  },
  {
   "cell_type": "markdown",
   "id": "5a6935ba-facd-43d7-816d-6739e48e19bd",
   "metadata": {},
   "source": [
    "# Workflows"
   ]
  },
  {
   "cell_type": "markdown",
   "id": "62a3714e-e4c4-44b8-88aa-2eb145bc0b90",
   "metadata": {},
   "source": [
    "A Workflow is basically a sequence of tasks where the connectivity, execution order, and dependencies of the different subtasks are predefined using `Flow` or `job` objects. For writing the inputs and parsing (reading) the outputs of calculations, atomate2 mainly relies on [pymatgen](https://github.com/materialsproject/pymatgen) and [ase](https://gitlab.com/ase/ase) packages. Thus it might be beneficial to get familiar with these packages. \n",
    "\n",
    "The output of a typical workflow in `atomate2` consists of a summary of the most relevant information for the specific calculation in a JSON serializable dict and is commonly referred to as a `TaskDocument`. The name of this `TaskDocument` and information contained within changes depending on the type of calculation and underlying calculator (e.g.:- DFT code, MLIP ) used in the Workflow.\n",
    "\n",
    "In this session, we will start from very simple workflows and gradually increase the complexity. "
   ]
  },
  {
   "cell_type": "markdown",
   "id": "1a247933-96fa-4df6-9f32-ba8d8e5960e8",
   "metadata": {},
   "source": [
    "## Running a  structure relaxation workflow"
   ]
  },
  {
   "cell_type": "markdown",
   "id": "7459a9d9-4539-4258-9890-8a5db0d0f7ad",
   "metadata": {},
   "source": [
    "In the following example we will be using the [CHGNet](https://github.com/CederGroupHub/chgnet/) MLIP. But other MLIPs can be used as well."
   ]
  },
  {
   "cell_type": "code",
   "execution_count": null,
   "id": "412092f0-d4cf-4455-9c10-5eb0cfa60af9",
   "metadata": {},
   "outputs": [],
   "source": [
    "from pymatgen.core import Structure\n",
    "from atomate2.forcefields.jobs import ForceFieldRelaxMaker\n",
    "from jobflow_remote import submit_flow"
   ]
  },
  {
   "cell_type": "code",
   "execution_count": null,
   "id": "dc3137c8-40a6-4366-8ca4-8a033e88fc61",
   "metadata": {},
   "outputs": [],
   "source": [
    "# construct a rock salt MgO structure\n",
    "mgo_structure = Structure(\n",
    "    lattice=[[0, 2.13, 2.13], [2.13, 0, 2.13], [2.13, 2.13, 0]],\n",
    "    species=[\"Mg\", \"O\"],\n",
    "    coords=[[0, 0, 0], [0.5, 0.5, 0.5]],\n",
    ")"
   ]
  },
  {
   "cell_type": "markdown",
   "id": "392a61d8-b400-4653-a3b8-e219313f30f2",
   "metadata": {},
   "source": [
    "#### Check the customizable parameters for initializing the workflow"
   ]
  },
  {
   "cell_type": "code",
   "execution_count": null,
   "id": "6d4a2143-f42c-425d-8597-41f1465e7fc1",
   "metadata": {},
   "outputs": [],
   "source": [
    "ForceFieldRelaxMaker?"
   ]
  },
  {
   "cell_type": "code",
   "execution_count": null,
   "id": "8464d53a-38b7-4acf-ab02-97a0a25cd4df",
   "metadata": {},
   "outputs": [],
   "source": [
    "ForceFieldRelaxMaker.make?"
   ]
  },
  {
   "cell_type": "markdown",
   "id": "0f6d8cf6-7221-4878-8a5d-449755a2dd25",
   "metadata": {},
   "source": [
    "In order to make a meaningful example for the relaxation we will randomly displace the atoms inside the box and scale the cell size."
   ]
  },
  {
   "cell_type": "code",
   "execution_count": null,
   "id": "91aa9ca5-02c3-4724-a7e5-0b3a9c3be2c1",
   "metadata": {},
   "outputs": [],
   "source": [
    "mgo_structure_rattled = mgo_structure.copy()\n",
    "mgo_structure_rattled.perturb(0.1)\n",
    "mgo_structure_rattled.scale_lattice(mgo_structure.volume*1.05)"
   ]
  },
  {
   "cell_type": "code",
   "execution_count": null,
   "id": "817d2fd8-ea2f-414d-8df4-fdaeb820da96",
   "metadata": {},
   "outputs": [],
   "source": [
    "relax_job = ForceFieldRelaxMaker(force_field_name=\"CHGNet\").make(structure=mgo_structure_rattled) # initialize the flow\n",
    "relax_job.name = \"Relax Job\" # one can also set a custom name to flow "
   ]
  },
  {
   "cell_type": "code",
   "execution_count": null,
   "id": "e7e417cd-089e-4043-9565-488eb581cc41",
   "metadata": {},
   "outputs": [],
   "source": [
    "resources={\"nodes\": 1 , \"ntasks\": 1, \"time\": \"01:00:00\"} # define the resources for the jobs in flow\n",
    "submit_flow(relax_job, worker=\"local_slurm\", resources=resources) # set the resources for job execution"
   ]
  },
  {
   "cell_type": "code",
   "execution_count": null,
   "id": "caadd39c-060d-4295-bf2d-9fffb80ec4bf",
   "metadata": {},
   "outputs": [],
   "source": [
    "! jf runner start # optional"
   ]
  },
  {
   "cell_type": "code",
   "execution_count": null,
   "id": "6df8e789-8a4e-44f0-990b-3772f23c90b4",
   "metadata": {},
   "outputs": [],
   "source": [
    "!jf flow list # overview of flows added to the DB"
   ]
  },
  {
   "cell_type": "code",
   "execution_count": null,
   "id": "81a459eb-cdeb-4d7b-a6e3-eadac227c04d",
   "metadata": {},
   "outputs": [],
   "source": [
    "!jf job list # Get list of jobs in the DB"
   ]
  },
  {
   "cell_type": "code",
   "execution_count": null,
   "id": "48d0cbfc-83a6-4578-9fea-cf6a7ef4e2a5",
   "metadata": {},
   "outputs": [],
   "source": [
    "!jf job info 3"
   ]
  },
  {
   "cell_type": "markdown",
   "id": "04bd29bd-38ff-48ad-b4b7-afc154807eed",
   "metadata": {},
   "source": [
    "If you prefer to monitor jobs via a graphical user interface simply run. This should start a gui server which can be opened in a browser\n",
    "\n",
    "```bash\n",
    "jf gui\n",
    "```"
   ]
  },
  {
   "cell_type": "markdown",
   "id": "cd82e896-799d-43ef-804a-162d161bdf74",
   "metadata": {},
   "source": [
    "#### Access the relax workflow results from the database and download the optimized structure"
   ]
  },
  {
   "cell_type": "markdown",
   "id": "c9435e9a-370c-4167-971f-12469c0238d3",
   "metadata": {},
   "source": [
    "For core MLIP jobs like the one here (Structure Relaxation), the output document can be found in this [atomate2 module\n",
    "](https://github.com/materialsproject/atomate2/blob/main/src/atomate2/forcefields/schemas.py) and is named `ForceFieldTaskDocument`.\n",
    "\n",
    "So now, we will access this document which is stored in the database after successful run of the workflow. To do that we will first fetch the output of the Job as a dictionary from the MongoDB database, then we will deserialize it, taking advantage of the standard (de)serialization tools used in the Material Project (i.e. the `MontyEncoder`/`MontyDecoder`)."
   ]
  },
  {
   "cell_type": "code",
   "execution_count": null,
   "id": "4f6549de-79d1-4433-9830-dac9f64e6793",
   "metadata": {},
   "outputs": [],
   "source": [
    "from jobflow_remote import get_jobstore\n",
    "from monty.serialization import MontyDecoder\n",
    "import matplotlib.pyplot as plt"
   ]
  },
  {
   "cell_type": "code",
   "execution_count": null,
   "id": "578d36d7-2e42-45d9-8f95-a020bfdd441e",
   "metadata": {},
   "outputs": [],
   "source": [
    "# connect to the database where the results are stored\n",
    "jobstore = get_jobstore()\n",
    "jobstore.connect()"
   ]
  },
  {
   "cell_type": "code",
   "execution_count": null,
   "id": "d722c3e4-799f-4908-a344-410f754e958a",
   "metadata": {},
   "outputs": [],
   "source": [
    "# get output\n",
    "relax_doc = jobstore.get_output(uuid=relax_job.uuid, load=True)\n",
    "\n",
    "# get python TaskDoc object from serialized output retrieved from DB\n",
    "task_doc_relax = MontyDecoder().process_decoded(relax_doc)"
   ]
  },
  {
   "cell_type": "code",
   "execution_count": null,
   "id": "b8d0695c-371b-4198-bb97-28ff57f061ab",
   "metadata": {},
   "outputs": [],
   "source": [
    "# Access VASP calculation inputs like incar, kpoints, poscar\n",
    "task_doc_relax.input"
   ]
  },
  {
   "cell_type": "code",
   "execution_count": null,
   "id": "b0b8e4b3-4963-4c91-a03a-f15b5e360fcb",
   "metadata": {
    "scrolled": true
   },
   "outputs": [],
   "source": [
    "# Access final energy\n",
    "task_doc_relax.output.energy"
   ]
  },
  {
   "cell_type": "code",
   "execution_count": null,
   "id": "0583a188-4ca9-471e-adf0-c96c4a8eab4e",
   "metadata": {},
   "outputs": [],
   "source": [
    "# Access forces\n",
    "task_doc_relax.output.forces"
   ]
  },
  {
   "cell_type": "code",
   "execution_count": null,
   "id": "a9e50827-937b-4a3e-9b6a-94943b1e994a",
   "metadata": {},
   "outputs": [],
   "source": [
    "# Access stress\n",
    "task_doc_relax.output.stress"
   ]
  },
  {
   "cell_type": "code",
   "execution_count": null,
   "id": "06e76aac-414b-41f4-a5ed-bf722712536e",
   "metadata": {},
   "outputs": [],
   "source": [
    "# Access / Download final optimized structure\n",
    "task_doc_relax.output.structure.to_file(\"MgO_opt.cif\", fmt=\"cif\")"
   ]
  },
  {
   "cell_type": "code",
   "execution_count": null,
   "id": "14224f7d-71e4-43e4-8ede-c44054f4aa76",
   "metadata": {},
   "outputs": [],
   "source": [
    "# Access directory where the calculation ran\n",
    "task_doc_relax.dir_name"
   ]
  },
  {
   "cell_type": "code",
   "execution_count": null,
   "id": "a0cc9109-a5c4-4f3a-af79-6427fdc2eb64",
   "metadata": {},
   "outputs": [],
   "source": [
    "# Collect energies for each optimization step from both relaxation tasks\n",
    "energy_step = [\n",
    "    step.energy for step in task_doc_relax.output.ionic_steps\n",
    "]\n",
    "\n",
    "# Generate step indices\n",
    "opt_step = list(range(1, len(energy_step) + 1))\n",
    "\n",
    "# Compute energy difference relative to the first step\n",
    "del_energy_step = [e - energy_step[0] for e in energy_step]\n",
    "\n",
    "# Plot results\n",
    "plt.plot(opt_step, del_energy_step)\n",
    "plt.ylabel(r'$\\Delta E$')\n",
    "plt.xlabel(\"Ionic step\")\n",
    "plt.show()"
   ]
  },
  {
   "cell_type": "markdown",
   "id": "75891204-18d3-43ab-86a6-b5b07651e187",
   "metadata": {},
   "source": [
    "## Running a Phonon workflow with MLIP and accessing the results"
   ]
  },
  {
   "cell_type": "code",
   "execution_count": null,
   "id": "fcda0b01-6956-4bda-96bc-f1cc281936a8",
   "metadata": {},
   "outputs": [],
   "source": [
    "from pymatviz.structure_viz import structure_3d_plotly\n",
    "from atomate2.forcefields.flows.phonons import PhononMaker\n",
    "from atomate2.vasp.powerups import add_metadata_to_flow\n",
    "from pymatgen.core import Structure\n",
    "from jobflow_remote import submit_flow"
   ]
  },
  {
   "cell_type": "code",
   "execution_count": null,
   "id": "0be1c4a4-fd01-43de-a230-03666e87b87b",
   "metadata": {},
   "outputs": [],
   "source": [
    "# Read si structure\n",
    "si_structure = Structure.from_file(\"Si.vasp\")"
   ]
  },
  {
   "cell_type": "code",
   "execution_count": null,
   "id": "d7a8169e-4339-4056-a335-97e5da95c5ff",
   "metadata": {},
   "outputs": [],
   "source": [
    "structure_3d_plotly(si_structure)"
   ]
  },
  {
   "cell_type": "code",
   "execution_count": null,
   "id": "675b5ea9-8012-4d78-8454-b4ba6966fa4c",
   "metadata": {},
   "outputs": [],
   "source": [
    "# make a Phonon flow to optimise the structure and obtain the Phonon bandstructure\n",
    "# It is possible to further customize calculation parameters, but for this case we stick to defaults\n",
    "phonon_flow = PhononMaker(\n",
    "    min_length=8.0, # here we set small supercell length for faster calculations (ideally you would use 15-20 angstroms supercell)\n",
    "    use_symmetrized_structure=\"conventional\",\n",
    "    create_thermal_displacements=False,\n",
    "    store_force_constants=False,\n",
    "    prefer_90_degrees=False,\n",
    "    generate_frequencies_eigenvectors_kwargs={\"tstep\": 100, \"band_structure_eigenvectors\": False},\n",
    ").make(si_structure)\n",
    "\n",
    "phonon_flow.name = \"Phonon flow\""
   ]
  },
  {
   "cell_type": "code",
   "execution_count": null,
   "id": "3943a63e-b452-4d58-990f-a19aa637fae5",
   "metadata": {},
   "outputs": [],
   "source": [
    "resources={\"nodes\": 1 , \"ntasks\": 1, \"time\": \"01:00:00\"} # define the resources for the jobs in flow"
   ]
  },
  {
   "cell_type": "code",
   "execution_count": null,
   "id": "297c7480-5c1c-4e05-8e0b-c6edfdc22121",
   "metadata": {},
   "outputs": [],
   "source": [
    "submit_flow(phonon_flow, worker=\"local_slurm\", resources=resources) # set the resources for job execution"
   ]
  },
  {
   "cell_type": "code",
   "execution_count": null,
   "id": "a3198b62-c8b4-4325-bac3-1db9e3842145",
   "metadata": {},
   "outputs": [],
   "source": [
    "# get overview of the list of jobs added and its status\n",
    "! jf job list"
   ]
  },
  {
   "cell_type": "markdown",
   "id": "6826662b-0764-4f83-980b-68f5ce4339c9",
   "metadata": {},
   "source": [
    "#### Access the phonon workflow results from the database and plot phonon bandstructure"
   ]
  },
  {
   "cell_type": "markdown",
   "id": "03014003-c404-4895-877a-004388a215bc",
   "metadata": {},
   "source": [
    "Each of the atomate2 workflows mostly have a associated [Taskdocument](https://materialsproject.github.io/atomate2/user/key_concepts_overview.html) generated for specific type of calculations. The Taskdocument can be understood simply as summary of most important results from the calculation.\n",
    "\n",
    "For phonon workflow, the taskdocument is named as [PhononBSDOSDoc](https://github.com/materialsproject/atomate2/blob/b8ff9f444bcecaac474f3779acd83ee3b5ad4ae1/src/atomate2/common/schemas/phonons.py#L136). \n",
    "\n",
    "So now, we will access this document which is stored in the database after successful run of the workflow."
   ]
  },
  {
   "cell_type": "code",
   "execution_count": null,
   "id": "bb46e984-8d12-4329-9508-08ad12906a37",
   "metadata": {},
   "outputs": [],
   "source": [
    "from jobflow_remote import get_jobstore\n",
    "from monty.serialization import MontyDecoder\n",
    "from pymatgen.phonon.bandstructure import PhononBandStructureSymmLine\n",
    "from pymatgen.phonon.dos import PhononDos\n",
    "from pymatgen.phonon.plotter import PhononBSPlotter, PhononDosPlotter"
   ]
  },
  {
   "cell_type": "code",
   "execution_count": null,
   "id": "6f5d42a3-32d5-4ce5-8729-ebd7605a9690",
   "metadata": {},
   "outputs": [],
   "source": [
    "# connect to the database where the results are stored\n",
    "jobstore = get_jobstore()\n",
    "jobstore.connect()"
   ]
  },
  {
   "cell_type": "code",
   "execution_count": null,
   "id": "e11666a6-3d32-4494-90ab-162fff3db687",
   "metadata": {},
   "outputs": [],
   "source": [
    "# get output doc\n",
    "phonon_doc = jobstore.get_output(phonon_flow.output.uuid, load=True)\n",
    "\n",
    "# get python PhononBSDOSDoc object from serialized output retrieved from DB\n",
    "task_doc_phonon = MontyDecoder().process_decoded(phonon_doc)"
   ]
  },
  {
   "cell_type": "code",
   "execution_count": null,
   "id": "866f3ca5-42f1-47a5-8e7c-a768b951b2d0",
   "metadata": {},
   "outputs": [],
   "source": [
    "# initialize dos plotter and visualize dos plot\n",
    "dos_plot = PhononDosPlotter()\n",
    "dos_plot.add_dos(label=\"Total Dos\", dos=task_doc_phonon.phonon_dos)\n",
    "dos_plot.get_plot();\n",
    "\n",
    "# initialize Phonon bandstructure plotter and visualize band structure plot\n",
    "bs_plot = PhononBSPlotter(bs=task_doc_phonon.phonon_bandstructure)\n",
    "bs_plot.get_plot();"
   ]
  },
  {
   "cell_type": "markdown",
   "id": "5aec87b4-aca4-4ee0-8259-998ca64a2a0f",
   "metadata": {},
   "source": [
    "You can compare these results with those calculate with DFT available on the [Materials Project website](https://next-gen.materialsproject.org/materials/mp-149) (in the \"Properties\" section, under the \"Phonon\" tab)"
   ]
  },
  {
   "cell_type": "markdown",
   "id": "2fc6c2fd-f7e3-41b2-8a4d-c9214d7ef70f",
   "metadata": {},
   "source": [
    "# Optional \n",
    "\n",
    "- Run Elastic constant or a Equation of state workflow and access the results\n",
    "- Try different force fields. For example replace `CHGNet` with `M3GNet` in the `force_field_name` option."
   ]
  }
 ],
 "metadata": {
  "kernelspec": {
   "display_name": "Python 3 (ipykernel)",
   "language": "python",
   "name": "python3"
  },
  "language_info": {
   "codemirror_mode": {
    "name": "ipython",
    "version": 3
   },
   "file_extension": ".py",
   "mimetype": "text/x-python",
   "name": "python",
   "nbconvert_exporter": "python",
   "pygments_lexer": "ipython3",
   "version": "3.12.9"
  }
 },
 "nbformat": 4,
 "nbformat_minor": 5
}
