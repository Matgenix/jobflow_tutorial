{
 "cells": [
  {
   "cell_type": "markdown",
   "metadata": {},
   "source": [
    "## Challenge 0: Install dependencies"
   ]
  },
  {
   "cell_type": "code",
   "execution_count": null,
   "metadata": {},
   "outputs": [],
   "source": [
    "! conda install 'ase==3.24.0' --yes"
   ]
  },
  {
   "cell_type": "markdown",
   "metadata": {},
   "source": [
    "## Challenge 1: Build a forcefield based equation of state maker\n",
    "\n",
    "Using `atomate2.common.flows.eos.CommonEosMaker` as a guide, or starting from scratch, write an equation of state workflow for any of the MLIPs available in `atomate2`, or any ASE classical forcefield.\n",
    "\n",
    "Key questions:\n",
    "- How do we ensure the EOS is run at fixed volume?\n",
    "- What should the inputs to the maker look like?\n",
    "\n",
    "\n",
    "<details>\n",
    "<summary><b>Hint</b></summary>\n",
    "<br>\n",
    "There are MLIP EOS makers in `atomate2` - you can refer to these for guidance.\n",
    "</details>\n",
    "\n",
    "### When you are confident in your workflow:\n",
    "Run it localy (`run_locally`) for the Materials Project structure below ([mp-22526](https://next-gen.materialsproject.org/materials/mp-22526)):\n",
    "\n",
    "\n",
    "<details>\n",
    "<summary><b>Reminder</b></summary>\n",
    "<br>\n",
    "When you define \"complex\" (usually mutable) objects as defaults in a python `dataclass`, you need to use the `field` function to define them.\n",
    "For example, you might see a dataclass like this:\n",
    "\n",
    "```python\n",
    "from dataclasses import dataclass, field\n",
    "@dataclass\n",
    "class purplePeopleEater:\n",
    "\n",
    "    eyes : int = 1\n",
    "    horns : str = \"single\"\n",
    "    abilities : dict[str,str] = field(default_factory = dict)\n",
    "```\n",
    "which means that a new \"instance\" of `purplePeopleEater()` will have default attributes of `eyes = 1`, `horns = \"single\"` and an empty dictionary of abilities.\n",
    "The line:\n",
    "\n",
    "```python\n",
    "abilities : dict[str,str] = field(default_factory = dict)\n",
    "```\n",
    "indicates that when the class is called as `purplePeopleEater()`, the field will be given an empty dictionary as default.\n",
    "</details>"
   ]
  },
  {
   "cell_type": "code",
   "execution_count": 7,
   "metadata": {},
   "outputs": [],
   "source": [
    "from pymatgen.core import Structure\n",
    "\n",
    "test_structure = Structure.from_str(\n",
    "\"\"\"mp-22526\n",
    "1.0\n",
    "   2.6937121874714256    0.0000000000000000    4.1079559895387510\n",
    "   1.2267470851777738    2.3981611576247186    4.1079559895387510\n",
    "   0.0000000000000000    0.0000000000000000    4.9123704799999999\n",
    "Li Co O\n",
    "1 1 2\n",
    "direct\n",
    "   0.0000000000000000    0.0000000000000000    0.0000000000000000 Li\n",
    "   0.5000000000000000    0.5000000000000000    0.5000000000000000 Co\n",
    "   0.7599932000000000    0.7599932000000000    0.7599932000000000 O\n",
    "   0.2400068000000000    0.2400068000000000    0.2400068000000000 O\n",
    "\"\"\",\n",
    "fmt = \"poscar\"\n",
    ")"
   ]
  },
  {
   "cell_type": "code",
   "execution_count": null,
   "metadata": {},
   "outputs": [],
   "source": [
    "from __future__ import annotations\n",
    "from dataclasses import dataclass, field\n",
    "\n",
    "from jobflow import Maker, Flow, run_locally\n",
    "\n",
    "@dataclass\n",
    "class ForceFieldEos(Maker):\n",
    "    name : str # this is required!\n",
    "    \"\"\"\n",
    "    Fill out any other fields you might need here.\n",
    "    \"\"\"\n",
    "    def make(\n",
    "        structure : Structure,\n",
    "        prev_dir : str | None = None # this means that prev_dir can be a string, or None, but defaults to None\n",
    "    ) -> Flow: # this means that `make` returns a `jobflow` `Flow`\n",
    "        \n",
    "        jobs = []\n",
    "\n",
    "        return Flow(jobs)\n",
    "    \n",
    "flow = ForceFieldEos().make(test_structure)\n",
    "response = run_locally(flow)"
   ]
  },
  {
   "cell_type": "markdown",
   "metadata": {},
   "source": [
    "### Challenge 1a: Build a postprocessing job for the EOS flow\n",
    "\n",
    "Using `pymatgen.analysis.eos.EOS` and `matplotlib`, write a function that can be used to fit and plot the output of the EOS flow. How could you incorporate this into the flow as a job?"
   ]
  },
  {
   "cell_type": "markdown",
   "metadata": {},
   "source": [
    "## Challenge 2: Build a custom relax maker using ASE\n",
    "\n",
    "Just like `pymatgen`, ASE also has an interface to VASP, among other electronic structure codes.\n",
    "You can get a sense for how to implement a VASP maker using ASE by using the much simpler EMT calculator from ASE.\n",
    "This is basically a low-accuracy interatomic potential for alloys/intermetallics.\n",
    "Build a simple EMT relax maker using `atomate2.ase.jobs.AseMaker`.\n",
    "\n",
    "The structure of `AseMaker` requires a `run_ase` function and a `calculator` attribute to be defined.\n",
    "We've defined the `run_ase` function for you, but you still need to call it from `make`.\n",
    "\n",
    "When you're ready to run it, `run_locally` on the intermetallic structure below ([mp-1228912](https://next-gen.materialsproject.org/materials/mp-1228912)):"
   ]
  },
  {
   "cell_type": "code",
   "execution_count": 9,
   "metadata": {},
   "outputs": [],
   "source": [
    "intermetallic = Structure.from_str(\"\"\"mp-1228912\n",
    "1.0\n",
    "   3.1077110000000001    0.0000000000000000    0.0000000000000000\n",
    "   0.0000000000000000    3.1077110000000001    0.0000000000000000\n",
    "   0.0000000000000000    0.0000000000000000    5.7859559999999997\n",
    "Al Cu Pd\n",
    "1 1 2\n",
    "direct\n",
    "   0.0000000000000000    0.0000000000000000    0.0000000000000000 Al\n",
    "   0.0000000000000000    0.0000000000000000    0.5000000000000000 Cu\n",
    "   0.5000000000000000    0.5000000000000000    0.2450020000000000 Pd\n",
    "   0.5000000000000000    0.5000000000000000    0.7549979999999999 Pd\n",
    "\"\"\",\n",
    "fmt=\"poscar\"\n",
    ")"
   ]
  },
  {
   "cell_type": "code",
   "execution_count": null,
   "metadata": {},
   "outputs": [],
   "source": [
    "from __future__ import annotations\n",
    "from dataclasses import dataclass, field\n",
    "from jobflow import job, Job\n",
    "\n",
    "from ase.calculators.calculator import Calculator\n",
    "from ase.calculators.emt import EMT\n",
    "\n",
    "from atomate2.ase.schemas import AseResult\n",
    "from atomate2.ase.jobs import AseMaker\n",
    "\n",
    "from pymatgen.io.ase import AseAtomsAdaptor\n",
    "\n",
    "@dataclass\n",
    "class AseEMT(AseMaker):\n",
    "    name : str # this is required!\n",
    "    \"\"\"\n",
    "    Fill out any other fields you might need here.\n",
    "    \"\"\"\n",
    "\n",
    "    def calculator(self) -> Calculator:\n",
    "        \"\"\"ASE EMT calculator.\"\"\"\n",
    "        return EMT()\n",
    "    \n",
    "    @job\n",
    "    def make(\n",
    "        self,\n",
    "        structure : Structure,\n",
    "        prev_dir : str | None = None,\n",
    "    ) -> Job:\n",
    "        \n",
    "        return\n",
    " \n",
    "    def run_ase(\n",
    "        self,\n",
    "        structure: Structure,\n",
    "        prev_dir: str | None = None,\n",
    "    ) -> AseResult:\n",
    "        \n",
    "        adaptor = AseAtomsAdaptor()\n",
    "        atoms = adaptor.get_atoms(structure)\n",
    "        atoms.calc = self.calculator()\n",
    "        toten = atoms.get_potential_energy()\n",
    "\n",
    "        final_structure = adaptor.get_structure(atoms)\n",
    "\n",
    "        return {\n",
    "            \"final_structure\": final_structure,\n",
    "            \"final_total_energy\": toten,\n",
    "        }\n"
   ]
  },
  {
   "cell_type": "markdown",
   "metadata": {},
   "source": [
    "### Challenge 2a: Build an EMT EOS maker\n",
    "\n",
    "Adapt your EOS flow to use the EMT relax maker you just developed."
   ]
  },
  {
   "cell_type": "markdown",
   "metadata": {},
   "source": [
    "### Challenge 2b: Modifying the output of the EMT job\n",
    "\n",
    "What other useful information could be included in either the output of `run_ase` or `make`?\n",
    "Modify the output of your EMT maker to include the forces or other useful information."
   ]
  }
 ],
 "metadata": {
  "kernelspec": {
   "display_name": "matpes_mlff",
   "language": "python",
   "name": "python3"
  },
  "language_info": {
   "codemirror_mode": {
    "name": "ipython",
    "version": 3
   },
   "file_extension": ".py",
   "mimetype": "text/x-python",
   "name": "python",
   "nbconvert_exporter": "python",
   "pygments_lexer": "ipython3",
   "version": "3.11.11"
  }
 },
 "nbformat": 4,
 "nbformat_minor": 2
}
