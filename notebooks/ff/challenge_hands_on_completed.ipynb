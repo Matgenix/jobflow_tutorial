{
 "cells": [
  {
   "cell_type": "markdown",
   "metadata": {},
   "source": [
    "## Challenge 0: Install dependencies"
   ]
  },
  {
   "cell_type": "code",
   "execution_count": null,
   "metadata": {},
   "outputs": [],
   "source": [
    "! conda install 'ase==3.24.0' --yes\n",
    "! pip install 'matgl==1.2.1' mace_torch"
   ]
  },
  {
   "cell_type": "markdown",
   "metadata": {},
   "source": [
    "## Challenge 1: Build a forcefield based equation of state maker\n",
    "\n",
    "Using `atomate2.common.flows.eos.CommonEosMaker` as a guide, or starting from scratch, write an equation of state workflow for any of the MLIPs available in `atomate2`, or any ASE classical forcefield.\n",
    "\n",
    "Key questions:\n",
    "- How do we ensure the EOS is run at fixed volume?\n",
    "- What should the inputs to the maker look like?\n",
    "\n",
    "\n",
    "<details>\n",
    "<summary><b>Hint</b></summary>\n",
    "<br>\n",
    "There are MLIP EOS makers in `atomate2` - you can refer to these for guidance.\n",
    "</details>\n",
    "\n",
    "### When you are confident in your workflow:\n",
    "Run it localy (`run_locally`) for the Materials Project structure below ([mp-22526](https://next-gen.materialsproject.org/materials/mp-22526)):\n",
    "\n",
    "\n",
    "<details>\n",
    "<summary><b>Reminder</b></summary>\n",
    "<br>\n",
    "When you define \"complex\" (usually mutable) objects as defaults in a python `dataclass`, you need to use the `field` function to define them.\n",
    "For example, you might see a dataclass like this:\n",
    "\n",
    "```python\n",
    "from dataclasses import dataclass, field\n",
    "@dataclass\n",
    "class purplePeopleEater:\n",
    "\n",
    "    eyes : int = 1\n",
    "    horns : str = \"single\"\n",
    "    abilities : dict[str,str] = field(default_factory = dict)\n",
    "```\n",
    "which means that a new \"instance\" of `purplePeopleEater()` will have default attributes of `eyes = 1`, `horns = \"single\"` and an empty dictionary of abilities.\n",
    "The line:\n",
    "\n",
    "```python\n",
    "abilities : dict[str,str] = field(default_factory = dict)\n",
    "```\n",
    "indicates that when the class is called as `purplePeopleEater()`, the field will be given an empty dictionary as default.\n",
    "</details>"
   ]
  },
  {
   "cell_type": "code",
   "execution_count": 33,
   "metadata": {},
   "outputs": [],
   "source": [
    "from pymatgen.core import Structure\n",
    "\n",
    "test_structure = Structure.from_str(\n",
    "\"\"\"mp-22526\n",
    "1.0\n",
    "   2.6937121874714256    0.0000000000000000    4.1079559895387510\n",
    "   1.2267470851777738    2.3981611576247186    4.1079559895387510\n",
    "   0.0000000000000000    0.0000000000000000    4.9123704799999999\n",
    "Li Co O\n",
    "1 1 2\n",
    "direct\n",
    "   0.0000000000000000    0.0000000000000000    0.0000000000000000 Li\n",
    "   0.5000000000000000    0.5000000000000000    0.5000000000000000 Co\n",
    "   0.7599932000000000    0.7599932000000000    0.7599932000000000 O\n",
    "   0.2400068000000000    0.2400068000000000    0.2400068000000000 O\n",
    "\"\"\",\n",
    "fmt = \"poscar\"\n",
    ")"
   ]
  },
  {
   "cell_type": "code",
   "execution_count": 3,
   "metadata": {},
   "outputs": [
    {
     "data": {
      "text/plain": [
       "Structure Summary\n",
       "Lattice\n",
       "    abc : 5.070942789493697 5.070942789493698 5.0709423662588495\n",
       " angles : 33.25407938000001 33.25407937999999 33.254068270000005\n",
       " volume : 34.907066536121576\n",
       "      A : 2.7806655278892265 0.0 4.240561283170737\n",
       "      B : 1.266346622723074 2.4755740766758194 4.240561283170737\n",
       "      C : 0.0 0.0 5.0709423662588495\n",
       "    pbc : True True True\n",
       "PeriodicSite: Li (0.0, 0.0, 0.0) [0.0, 0.0, 0.0]\n",
       "PeriodicSite: Co (2.024, 1.238, 6.776) [0.5, 0.5, 0.5]\n",
       "PeriodicSite: O (3.076, 1.881, 10.3) [0.76, 0.76, 0.76]\n",
       "PeriodicSite: O (0.9713, 0.5942, 3.253) [0.24, 0.24, 0.24]"
      ]
     },
     "execution_count": 3,
     "metadata": {},
     "output_type": "execute_result"
    }
   ],
   "source": [
    "test_structure.scale_lattice(1.1*test_structure.volume)"
   ]
  },
  {
   "cell_type": "code",
   "execution_count": 79,
   "metadata": {
    "scrolled": true
   },
   "outputs": [
    {
     "name": "stdout",
     "output_type": "stream",
     "text": [
      "2025-03-19 16:29:43,658 INFO Started executing jobs locally\n"
     ]
    },
    {
     "name": "stderr",
     "output_type": "stream",
     "text": [
      "INFO:jobflow.managers.local:Started executing jobs locally\n"
     ]
    },
    {
     "name": "stdout",
     "output_type": "stream",
     "text": [
      "2025-03-19 16:29:43,664 INFO Starting job - Force field relax -0.0500 (17781868-f16a-4840-aab3-bac557a89025)\n"
     ]
    },
    {
     "name": "stderr",
     "output_type": "stream",
     "text": [
      "INFO:jobflow.core.job:Starting job - Force field relax -0.0500 (17781868-f16a-4840-aab3-bac557a89025)\n"
     ]
    },
    {
     "name": "stdout",
     "output_type": "stream",
     "text": [
      "Using medium MPA-0 model as default MACE-MP model, to use previous (before 3.10) default model please specify 'medium' as model argument\n",
      "Using Materials Project MACE for MACECalculator with /home/jovyan/.cache/mace/macempa0mediummodel\n",
      "Using float32 for MACECalculator, which is faster but less accurate. Recommended for MD. Use float64 for geometry optimization.\n",
      "Default dtype float32 does not match model dtype float64, converting models to float32.\n"
     ]
    },
    {
     "name": "stderr",
     "output_type": "stream",
     "text": [
      "/opt/conda/lib/python3.12/site-packages/mace/calculators/mace.py:139: UserWarning: Environment variable TORCH_FORCE_NO_WEIGHTS_ONLY_LOAD detected, since the`weights_only` argument was not explicitly passed to `torch.load`, forcing weights_only=False.\n",
      "  torch.load(f=model_path, map_location=device)\n",
      "/opt/conda/lib/python3.12/site-packages/atomate2/ase/utils.py:368: FutureWarning: Please use atoms.calc = calc\n",
      "  atoms.set_calculator(self.calculator)\n"
     ]
    },
    {
     "name": "stdout",
     "output_type": "stream",
     "text": [
      "2025-03-19 16:29:45,073 INFO Finished job - Force field relax -0.0500 (17781868-f16a-4840-aab3-bac557a89025)\n"
     ]
    },
    {
     "name": "stderr",
     "output_type": "stream",
     "text": [
      "INFO:jobflow.core.job:Finished job - Force field relax -0.0500 (17781868-f16a-4840-aab3-bac557a89025)\n"
     ]
    },
    {
     "name": "stdout",
     "output_type": "stream",
     "text": [
      "2025-03-19 16:29:45,074 INFO Starting job - Force field relax -0.0300 (b5de0801-8973-4be5-bb74-9c71985a11f1)\n"
     ]
    },
    {
     "name": "stderr",
     "output_type": "stream",
     "text": [
      "INFO:jobflow.core.job:Starting job - Force field relax -0.0300 (b5de0801-8973-4be5-bb74-9c71985a11f1)\n"
     ]
    },
    {
     "name": "stdout",
     "output_type": "stream",
     "text": [
      "Using medium MPA-0 model as default MACE-MP model, to use previous (before 3.10) default model please specify 'medium' as model argument\n",
      "Using Materials Project MACE for MACECalculator with /home/jovyan/.cache/mace/macempa0mediummodel\n",
      "Using float32 for MACECalculator, which is faster but less accurate. Recommended for MD. Use float64 for geometry optimization.\n",
      "Default dtype float32 does not match model dtype float64, converting models to float32.\n"
     ]
    },
    {
     "name": "stderr",
     "output_type": "stream",
     "text": [
      "/opt/conda/lib/python3.12/site-packages/mace/calculators/mace.py:139: UserWarning: Environment variable TORCH_FORCE_NO_WEIGHTS_ONLY_LOAD detected, since the`weights_only` argument was not explicitly passed to `torch.load`, forcing weights_only=False.\n",
      "  torch.load(f=model_path, map_location=device)\n",
      "/opt/conda/lib/python3.12/site-packages/atomate2/ase/utils.py:368: FutureWarning: Please use atoms.calc = calc\n",
      "  atoms.set_calculator(self.calculator)\n"
     ]
    },
    {
     "name": "stdout",
     "output_type": "stream",
     "text": [
      "2025-03-19 16:29:46,464 INFO Finished job - Force field relax -0.0300 (b5de0801-8973-4be5-bb74-9c71985a11f1)\n"
     ]
    },
    {
     "name": "stderr",
     "output_type": "stream",
     "text": [
      "INFO:jobflow.core.job:Finished job - Force field relax -0.0300 (b5de0801-8973-4be5-bb74-9c71985a11f1)\n"
     ]
    },
    {
     "name": "stdout",
     "output_type": "stream",
     "text": [
      "2025-03-19 16:29:46,465 INFO Starting job - Force field relax -0.0100 (cb85829f-5524-4b0d-abc0-f1b7c1e3ec53)\n"
     ]
    },
    {
     "name": "stderr",
     "output_type": "stream",
     "text": [
      "INFO:jobflow.core.job:Starting job - Force field relax -0.0100 (cb85829f-5524-4b0d-abc0-f1b7c1e3ec53)\n"
     ]
    },
    {
     "name": "stdout",
     "output_type": "stream",
     "text": [
      "Using medium MPA-0 model as default MACE-MP model, to use previous (before 3.10) default model please specify 'medium' as model argument\n",
      "Using Materials Project MACE for MACECalculator with /home/jovyan/.cache/mace/macempa0mediummodel\n",
      "Using float32 for MACECalculator, which is faster but less accurate. Recommended for MD. Use float64 for geometry optimization.\n",
      "Default dtype float32 does not match model dtype float64, converting models to float32.\n"
     ]
    },
    {
     "name": "stderr",
     "output_type": "stream",
     "text": [
      "/opt/conda/lib/python3.12/site-packages/mace/calculators/mace.py:139: UserWarning: Environment variable TORCH_FORCE_NO_WEIGHTS_ONLY_LOAD detected, since the`weights_only` argument was not explicitly passed to `torch.load`, forcing weights_only=False.\n",
      "  torch.load(f=model_path, map_location=device)\n",
      "/opt/conda/lib/python3.12/site-packages/atomate2/ase/utils.py:368: FutureWarning: Please use atoms.calc = calc\n",
      "  atoms.set_calculator(self.calculator)\n"
     ]
    },
    {
     "name": "stdout",
     "output_type": "stream",
     "text": [
      "2025-03-19 16:29:47,969 INFO Finished job - Force field relax -0.0100 (cb85829f-5524-4b0d-abc0-f1b7c1e3ec53)\n"
     ]
    },
    {
     "name": "stderr",
     "output_type": "stream",
     "text": [
      "INFO:jobflow.core.job:Finished job - Force field relax -0.0100 (cb85829f-5524-4b0d-abc0-f1b7c1e3ec53)\n"
     ]
    },
    {
     "name": "stdout",
     "output_type": "stream",
     "text": [
      "2025-03-19 16:29:47,971 INFO Starting job - Force field relax 0.0100 (0b7baeab-8be4-4f0b-9c6c-d39603002fe3)\n"
     ]
    },
    {
     "name": "stderr",
     "output_type": "stream",
     "text": [
      "INFO:jobflow.core.job:Starting job - Force field relax 0.0100 (0b7baeab-8be4-4f0b-9c6c-d39603002fe3)\n"
     ]
    },
    {
     "name": "stdout",
     "output_type": "stream",
     "text": [
      "Using medium MPA-0 model as default MACE-MP model, to use previous (before 3.10) default model please specify 'medium' as model argument\n",
      "Using Materials Project MACE for MACECalculator with /home/jovyan/.cache/mace/macempa0mediummodel\n",
      "Using float32 for MACECalculator, which is faster but less accurate. Recommended for MD. Use float64 for geometry optimization.\n",
      "Default dtype float32 does not match model dtype float64, converting models to float32.\n"
     ]
    },
    {
     "name": "stderr",
     "output_type": "stream",
     "text": [
      "/opt/conda/lib/python3.12/site-packages/mace/calculators/mace.py:139: UserWarning: Environment variable TORCH_FORCE_NO_WEIGHTS_ONLY_LOAD detected, since the`weights_only` argument was not explicitly passed to `torch.load`, forcing weights_only=False.\n",
      "  torch.load(f=model_path, map_location=device)\n",
      "/opt/conda/lib/python3.12/site-packages/atomate2/ase/utils.py:368: FutureWarning: Please use atoms.calc = calc\n",
      "  atoms.set_calculator(self.calculator)\n"
     ]
    },
    {
     "name": "stdout",
     "output_type": "stream",
     "text": [
      "2025-03-19 16:29:48,704 INFO Finished job - Force field relax 0.0100 (0b7baeab-8be4-4f0b-9c6c-d39603002fe3)\n"
     ]
    },
    {
     "name": "stderr",
     "output_type": "stream",
     "text": [
      "INFO:jobflow.core.job:Finished job - Force field relax 0.0100 (0b7baeab-8be4-4f0b-9c6c-d39603002fe3)\n"
     ]
    },
    {
     "name": "stdout",
     "output_type": "stream",
     "text": [
      "2025-03-19 16:29:48,705 INFO Starting job - Force field relax 0.0300 (07d52ec9-5598-41e4-874c-4c37b177ff0f)\n"
     ]
    },
    {
     "name": "stderr",
     "output_type": "stream",
     "text": [
      "INFO:jobflow.core.job:Starting job - Force field relax 0.0300 (07d52ec9-5598-41e4-874c-4c37b177ff0f)\n"
     ]
    },
    {
     "name": "stdout",
     "output_type": "stream",
     "text": [
      "Using medium MPA-0 model as default MACE-MP model, to use previous (before 3.10) default model please specify 'medium' as model argument\n",
      "Using Materials Project MACE for MACECalculator with /home/jovyan/.cache/mace/macempa0mediummodel\n",
      "Using float32 for MACECalculator, which is faster but less accurate. Recommended for MD. Use float64 for geometry optimization.\n",
      "Default dtype float32 does not match model dtype float64, converting models to float32.\n"
     ]
    },
    {
     "name": "stderr",
     "output_type": "stream",
     "text": [
      "/opt/conda/lib/python3.12/site-packages/mace/calculators/mace.py:139: UserWarning: Environment variable TORCH_FORCE_NO_WEIGHTS_ONLY_LOAD detected, since the`weights_only` argument was not explicitly passed to `torch.load`, forcing weights_only=False.\n",
      "  torch.load(f=model_path, map_location=device)\n",
      "/opt/conda/lib/python3.12/site-packages/atomate2/ase/utils.py:368: FutureWarning: Please use atoms.calc = calc\n",
      "  atoms.set_calculator(self.calculator)\n"
     ]
    },
    {
     "name": "stdout",
     "output_type": "stream",
     "text": [
      "2025-03-19 16:29:49,430 INFO Finished job - Force field relax 0.0300 (07d52ec9-5598-41e4-874c-4c37b177ff0f)\n"
     ]
    },
    {
     "name": "stderr",
     "output_type": "stream",
     "text": [
      "INFO:jobflow.core.job:Finished job - Force field relax 0.0300 (07d52ec9-5598-41e4-874c-4c37b177ff0f)\n"
     ]
    },
    {
     "name": "stdout",
     "output_type": "stream",
     "text": [
      "2025-03-19 16:29:49,431 INFO Starting job - Force field relax 0.0500 (e240849c-3325-474c-b56c-af1a394464f1)\n"
     ]
    },
    {
     "name": "stderr",
     "output_type": "stream",
     "text": [
      "INFO:jobflow.core.job:Starting job - Force field relax 0.0500 (e240849c-3325-474c-b56c-af1a394464f1)\n"
     ]
    },
    {
     "name": "stdout",
     "output_type": "stream",
     "text": [
      "Using medium MPA-0 model as default MACE-MP model, to use previous (before 3.10) default model please specify 'medium' as model argument\n",
      "Using Materials Project MACE for MACECalculator with /home/jovyan/.cache/mace/macempa0mediummodel\n",
      "Using float32 for MACECalculator, which is faster but less accurate. Recommended for MD. Use float64 for geometry optimization.\n",
      "Default dtype float32 does not match model dtype float64, converting models to float32.\n"
     ]
    },
    {
     "name": "stderr",
     "output_type": "stream",
     "text": [
      "/opt/conda/lib/python3.12/site-packages/mace/calculators/mace.py:139: UserWarning: Environment variable TORCH_FORCE_NO_WEIGHTS_ONLY_LOAD detected, since the`weights_only` argument was not explicitly passed to `torch.load`, forcing weights_only=False.\n",
      "  torch.load(f=model_path, map_location=device)\n",
      "/opt/conda/lib/python3.12/site-packages/atomate2/ase/utils.py:368: FutureWarning: Please use atoms.calc = calc\n",
      "  atoms.set_calculator(self.calculator)\n"
     ]
    },
    {
     "name": "stdout",
     "output_type": "stream",
     "text": [
      "2025-03-19 16:29:49,713 INFO Finished job - Force field relax 0.0500 (e240849c-3325-474c-b56c-af1a394464f1)\n"
     ]
    },
    {
     "name": "stderr",
     "output_type": "stream",
     "text": [
      "INFO:jobflow.core.job:Finished job - Force field relax 0.0500 (e240849c-3325-474c-b56c-af1a394464f1)\n"
     ]
    },
    {
     "name": "stdout",
     "output_type": "stream",
     "text": [
      "2025-03-19 16:29:49,714 INFO Starting job - eos_fit (3e263e2f-1db3-4e89-9ed4-98de5ca8522c)\n"
     ]
    },
    {
     "name": "stderr",
     "output_type": "stream",
     "text": [
      "INFO:jobflow.core.job:Starting job - eos_fit (3e263e2f-1db3-4e89-9ed4-98de5ca8522c)\n"
     ]
    },
    {
     "name": "stdout",
     "output_type": "stream",
     "text": [
      "2025-03-19 16:29:49,796 INFO Finished job - eos_fit (3e263e2f-1db3-4e89-9ed4-98de5ca8522c)\n"
     ]
    },
    {
     "name": "stderr",
     "output_type": "stream",
     "text": [
      "INFO:jobflow.core.job:Finished job - eos_fit (3e263e2f-1db3-4e89-9ed4-98de5ca8522c)\n"
     ]
    },
    {
     "name": "stdout",
     "output_type": "stream",
     "text": [
      "2025-03-19 16:29:49,797 INFO Finished executing jobs locally\n"
     ]
    },
    {
     "name": "stderr",
     "output_type": "stream",
     "text": [
      "INFO:jobflow.managers.local:Finished executing jobs locally\n"
     ]
    }
   ],
   "source": [
    "from __future__ import annotations\n",
    "from dataclasses import dataclass, field\n",
    "import numpy as np\n",
    "\n",
    "from jobflow import Maker, Flow, run_locally, job\n",
    "from atomate2.forcefields.jobs import ForceFieldRelaxMaker\n",
    "from pymatgen.analysis.eos import EOS\n",
    "\n",
    "@job\n",
    "def eos_fit(volumes : list[float], energies : list[float],eos_model : str = \"vinet\"):\n",
    "    fitted_eos = EOS(eos_model).fit(volumes,energies)\n",
    "    return {\n",
    "        \"eos_params\": {k : getattr(fitted_eos,k,None) for k in (\"e0\",\"v0\",\"b0\",\"b1\")},\n",
    "        \"eos_model\": eos_model,\n",
    "        \"energies\": energies,\n",
    "        \"volumes\": volumes,\n",
    "    }\n",
    "\n",
    "@dataclass\n",
    "class ForceFieldEos(Maker):\n",
    "    name : str = \"MACE EOS\"\n",
    "    eos_relaxer : Maker = field(\n",
    "        default_factory = lambda : ForceFieldRelaxMaker(\n",
    "            force_field_name = \"MACE\",\n",
    "            relax_cell = False,\n",
    "        )\n",
    "    )\n",
    "    linear_strain : tuple[float,float] = (-0.05, 0.05)\n",
    "    num_frames : int = 6\n",
    "    eos_model : str = \"vinet\"\n",
    "    \n",
    "    \"\"\"\n",
    "    Fill out any other fields you might need here.\n",
    "    \"\"\"\n",
    "    def make(\n",
    "        self,\n",
    "        structure : Structure,\n",
    "        prev_dir : str | None = None # this means that prev_dir can be a string, or None, but defaults to None\n",
    "    ) -> Flow: # this means that `make` returns a `jobflow` `Flow`\n",
    "        \n",
    "        jobs = []\n",
    "        structure_dict = structure.as_dict()\n",
    "\n",
    "        energies = []\n",
    "        volumes = []\n",
    "\n",
    "        strains = np.linspace(self.linear_strain[0],self.linear_strain[1],self.num_frames)\n",
    "        for strain in strains:\n",
    "            strained_structure = Structure.from_dict(structure_dict)\n",
    "            strained_structure = strained_structure.scale_lattice((1. + strain)*structure.volume)\n",
    "            job = self.eos_relaxer.make(strained_structure)\n",
    "            job.append_name(f\" {strain:.4f}\")\n",
    "            jobs.append(job)\n",
    "\n",
    "            energies.append(job.output.output.energy)\n",
    "            volumes.append(job.output.structure.volume)\n",
    "\n",
    "        fit_job = eos_fit(volumes, energies, eos_model = self.eos_model)\n",
    "        \n",
    "        return Flow(jobs + [fit_job])\n",
    "    \n",
    "flow = ForceFieldEos().make(test_structure)\n",
    "response = run_locally(flow)"
   ]
  },
  {
   "cell_type": "code",
   "execution_count": 76,
   "metadata": {},
   "outputs": [],
   "source": [
    "uuid_to_job_name = {\n",
    "    job.uuid : job.name\n",
    "    for job in flow.jobs\n",
    "}\n",
    "flow_output = {\n",
    "    name : response[uuid][1].output\n",
    "    for uuid, name in uuid_to_job_name.items()\n",
    "}"
   ]
  },
  {
   "cell_type": "code",
   "execution_count": 78,
   "metadata": {},
   "outputs": [
    {
     "data": {
      "text/plain": [
       "{'eos_params': {'e0': -22.50060632220471,\n",
       "  'v0': 33.83600483683379,\n",
       "  'b0': 1.0605797367184642,\n",
       "  'b1': 6.253488726999332},\n",
       " 'eos_model': 'vinet',\n",
       " 'energies': [-22.219335556030273,\n",
       "  -22.317123413085938,\n",
       "  -22.390911102294922,\n",
       "  -22.443735122680664,\n",
       "  -22.47804832458496,\n",
       "  -22.496286392211914],\n",
       " 'volumes': [30.147012008468636,\n",
       "  30.781685945489027,\n",
       "  31.416359882509422,\n",
       "  32.0510338195298,\n",
       "  32.68570775655021,\n",
       "  33.320381693570596]}"
      ]
     },
     "execution_count": 78,
     "metadata": {},
     "output_type": "execute_result"
    }
   ],
   "source": [
    "flow_output['eos_fit']"
   ]
  },
  {
   "cell_type": "markdown",
   "metadata": {},
   "source": [
    "### Challenge 1a: Build a postprocessing job for the EOS flow\n",
    "\n",
    "Using `pymatgen.analysis.eos.EOS` and `matplotlib`, write a function that can be used to fit and plot the output of the EOS flow. How could you incorporate this into the flow as a job?"
   ]
  },
  {
   "cell_type": "markdown",
   "metadata": {},
   "source": [
    "## Challenge 2: Build a custom relax maker using ASE\n",
    "\n",
    "Just like `pymatgen`, ASE also has an interface to VASP, among other electronic structure codes.\n",
    "You can get a sense for how to implement a VASP maker using ASE by using the much simpler EMT calculator from ASE.\n",
    "This is basically a low-accuracy interatomic potential for alloys/intermetallics.\n",
    "Build a simple EMT relax maker using `atomate2.ase.jobs.AseMaker`.\n",
    "\n",
    "The structure of `AseMaker` requires a `run_ase` function and a `calculator` attribute to be defined.\n",
    "We've defined the `run_ase` function for you, but you still need to call it from `make`.\n",
    "\n",
    "When you're ready to run it, `run_locally` on the intermetallic structure below ([mp-1228912](https://next-gen.materialsproject.org/materials/mp-1228912)):"
   ]
  },
  {
   "cell_type": "code",
   "execution_count": 85,
   "metadata": {},
   "outputs": [],
   "source": [
    "intermetallic = Structure.from_str(\"\"\"mp-1228912\n",
    "1.0\n",
    "   3.1077110000000001    0.0000000000000000    0.0000000000000000\n",
    "   0.0000000000000000    3.1077110000000001    0.0000000000000000\n",
    "   0.0000000000000000    0.0000000000000000    5.7859559999999997\n",
    "Al Cu Pd\n",
    "1 1 2\n",
    "direct\n",
    "   0.0000000000000000    0.0000000000000000    0.0000000000000000 Al\n",
    "   0.0000000000000000    0.0000000000000000    0.5000000000000000 Cu\n",
    "   0.5000000000000000    0.5000000000000000    0.2450020000000000 Pd\n",
    "   0.5000000000000000    0.5000000000000000    0.7549979999999999 Pd\n",
    "\"\"\",\n",
    "fmt=\"poscar\"\n",
    ")"
   ]
  },
  {
   "cell_type": "code",
   "execution_count": 100,
   "metadata": {},
   "outputs": [],
   "source": [
    "from __future__ import annotations\n",
    "from dataclasses import dataclass, field\n",
    "from jobflow import job, Job\n",
    "\n",
    "from ase.calculators.calculator import Calculator\n",
    "from ase.calculators.emt import EMT\n",
    "\n",
    "from atomate2.ase.schemas import AseResult\n",
    "from atomate2.ase.jobs import AseMaker, AseRelaxMaker\n",
    "\n",
    "from pymatgen.io.ase import AseAtomsAdaptor\n",
    "\n",
    "@dataclass\n",
    "class AseEMTStatic(AseMaker):\n",
    "    name : str = \"ASE EMT Static\" # this is required!\n",
    "    \"\"\"\n",
    "    Fill out any other fields you might need here.\n",
    "    \"\"\"\n",
    "\n",
    "    def calculator(self) -> Calculator:\n",
    "        \"\"\"ASE EMT calculator.\"\"\"\n",
    "        return EMT()\n",
    "    \n",
    "    @job\n",
    "    def make(\n",
    "        self,\n",
    "        structure : Structure,\n",
    "        prev_dir : str | None = None,\n",
    "    ) -> Job:\n",
    "        \n",
    "        return self.run_ase(structure)\n",
    " \n",
    "    def run_ase(\n",
    "        self,\n",
    "        structure: Structure,\n",
    "        prev_dir: str | None = None,\n",
    "    ) -> AseResult:\n",
    "        \n",
    "        adaptor = AseAtomsAdaptor()\n",
    "        atoms = adaptor.get_atoms(structure)\n",
    "        atoms.calc = self.calculator()\n",
    "        toten = atoms.get_potential_energy()\n",
    "\n",
    "        final_structure = adaptor.get_structure(atoms)\n",
    "\n",
    "        return {\n",
    "            \"final_structure\": final_structure,\n",
    "            \"final_total_energy\": toten,\n",
    "        }\n",
    "\n",
    "@dataclass\n",
    "class AseEMTRelax(AseRelaxMaker):\n",
    "    name : str = \"ASE EMT relaxer\"\n",
    "\n",
    "    @property\n",
    "    def calculator(self):\n",
    "        return EMT()\n",
    "\n",
    "@dataclass\n",
    "class AseEMTEos(ForceFieldEos):\n",
    "\n",
    "    name : str = \"ASE EMT EOS\"\n",
    "    eos_relaxer : Maker = field(\n",
    "        default_factory = lambda : AseEMTRelax(\n",
    "            relax_cell = False,\n",
    "        )\n",
    "    )"
   ]
  },
  {
   "cell_type": "code",
   "execution_count": 95,
   "metadata": {},
   "outputs": [
    {
     "name": "stdout",
     "output_type": "stream",
     "text": [
      "2025-03-19 17:24:13,163 INFO Started executing jobs locally\n"
     ]
    },
    {
     "name": "stderr",
     "output_type": "stream",
     "text": [
      "INFO:jobflow.managers.local:Started executing jobs locally\n"
     ]
    },
    {
     "name": "stdout",
     "output_type": "stream",
     "text": [
      "2025-03-19 17:24:13,168 INFO Starting job - ASE EMT relaxer (45524209-628b-4b48-8f35-252903c06fb8)\n"
     ]
    },
    {
     "name": "stderr",
     "output_type": "stream",
     "text": [
      "INFO:jobflow.core.job:Starting job - ASE EMT relaxer (45524209-628b-4b48-8f35-252903c06fb8)\n",
      "/opt/conda/lib/python3.12/site-packages/atomate2/ase/utils.py:368: FutureWarning: Please use atoms.calc = calc\n",
      "  atoms.set_calculator(self.calculator)\n"
     ]
    },
    {
     "name": "stdout",
     "output_type": "stream",
     "text": [
      "2025-03-19 17:24:13,636 INFO Finished job - ASE EMT relaxer (45524209-628b-4b48-8f35-252903c06fb8)\n"
     ]
    },
    {
     "name": "stderr",
     "output_type": "stream",
     "text": [
      "INFO:jobflow.core.job:Finished job - ASE EMT relaxer (45524209-628b-4b48-8f35-252903c06fb8)\n"
     ]
    },
    {
     "name": "stdout",
     "output_type": "stream",
     "text": [
      "2025-03-19 17:24:13,638 INFO Finished executing jobs locally\n"
     ]
    },
    {
     "name": "stderr",
     "output_type": "stream",
     "text": [
      "INFO:jobflow.managers.local:Finished executing jobs locally\n"
     ]
    }
   ],
   "source": [
    "intermet_relax_job = AseEMTRelax().make(intermetallic)\n",
    "intermet_resp = run_locally(intermet_relax_job)"
   ]
  },
  {
   "cell_type": "markdown",
   "metadata": {},
   "source": [
    "### Challenge 2a: Build an EMT EOS maker\n",
    "\n",
    "Adapt your EOS flow to use the EMT relax maker you just developed."
   ]
  },
  {
   "cell_type": "code",
   "execution_count": 102,
   "metadata": {},
   "outputs": [
    {
     "name": "stdout",
     "output_type": "stream",
     "text": [
      "2025-03-19 17:30:56,253 INFO Started executing jobs locally\n"
     ]
    },
    {
     "name": "stderr",
     "output_type": "stream",
     "text": [
      "INFO:jobflow.managers.local:Started executing jobs locally\n"
     ]
    },
    {
     "name": "stdout",
     "output_type": "stream",
     "text": [
      "2025-03-19 17:30:56,260 INFO Starting job - ASE EMT relaxer -0.0500 (b44b0ea2-840f-4445-abf2-ea6b927e8855)\n"
     ]
    },
    {
     "name": "stderr",
     "output_type": "stream",
     "text": [
      "INFO:jobflow.core.job:Starting job - ASE EMT relaxer -0.0500 (b44b0ea2-840f-4445-abf2-ea6b927e8855)\n"
     ]
    },
    {
     "name": "stdout",
     "output_type": "stream",
     "text": [
      "2025-03-19 17:30:56,299 INFO Finished job - ASE EMT relaxer -0.0500 (b44b0ea2-840f-4445-abf2-ea6b927e8855)\n"
     ]
    },
    {
     "name": "stderr",
     "output_type": "stream",
     "text": [
      "INFO:jobflow.core.job:Finished job - ASE EMT relaxer -0.0500 (b44b0ea2-840f-4445-abf2-ea6b927e8855)\n"
     ]
    },
    {
     "name": "stdout",
     "output_type": "stream",
     "text": [
      "2025-03-19 17:30:56,300 INFO Starting job - ASE EMT relaxer -0.0300 (e33a8dea-0534-459c-b7e5-d0aca3865866)\n"
     ]
    },
    {
     "name": "stderr",
     "output_type": "stream",
     "text": [
      "INFO:jobflow.core.job:Starting job - ASE EMT relaxer -0.0300 (e33a8dea-0534-459c-b7e5-d0aca3865866)\n"
     ]
    },
    {
     "name": "stdout",
     "output_type": "stream",
     "text": [
      "2025-03-19 17:30:56,372 INFO Finished job - ASE EMT relaxer -0.0300 (e33a8dea-0534-459c-b7e5-d0aca3865866)\n"
     ]
    },
    {
     "name": "stderr",
     "output_type": "stream",
     "text": [
      "INFO:jobflow.core.job:Finished job - ASE EMT relaxer -0.0300 (e33a8dea-0534-459c-b7e5-d0aca3865866)\n"
     ]
    },
    {
     "name": "stdout",
     "output_type": "stream",
     "text": [
      "2025-03-19 17:30:56,373 INFO Starting job - ASE EMT relaxer -0.0100 (77d33bb6-d1e0-4e18-a2dc-e3ff074375df)\n"
     ]
    },
    {
     "name": "stderr",
     "output_type": "stream",
     "text": [
      "INFO:jobflow.core.job:Starting job - ASE EMT relaxer -0.0100 (77d33bb6-d1e0-4e18-a2dc-e3ff074375df)\n"
     ]
    },
    {
     "name": "stdout",
     "output_type": "stream",
     "text": [
      "2025-03-19 17:30:56,444 INFO Finished job - ASE EMT relaxer -0.0100 (77d33bb6-d1e0-4e18-a2dc-e3ff074375df)\n"
     ]
    },
    {
     "name": "stderr",
     "output_type": "stream",
     "text": [
      "INFO:jobflow.core.job:Finished job - ASE EMT relaxer -0.0100 (77d33bb6-d1e0-4e18-a2dc-e3ff074375df)\n"
     ]
    },
    {
     "name": "stdout",
     "output_type": "stream",
     "text": [
      "2025-03-19 17:30:56,445 INFO Starting job - ASE EMT relaxer 0.0100 (3784b6ee-4fb6-43a0-8a19-65b111cb4e4d)\n"
     ]
    },
    {
     "name": "stderr",
     "output_type": "stream",
     "text": [
      "INFO:jobflow.core.job:Starting job - ASE EMT relaxer 0.0100 (3784b6ee-4fb6-43a0-8a19-65b111cb4e4d)\n"
     ]
    },
    {
     "name": "stdout",
     "output_type": "stream",
     "text": [
      "2025-03-19 17:30:56,512 INFO Finished job - ASE EMT relaxer 0.0100 (3784b6ee-4fb6-43a0-8a19-65b111cb4e4d)\n"
     ]
    },
    {
     "name": "stderr",
     "output_type": "stream",
     "text": [
      "INFO:jobflow.core.job:Finished job - ASE EMT relaxer 0.0100 (3784b6ee-4fb6-43a0-8a19-65b111cb4e4d)\n"
     ]
    },
    {
     "name": "stdout",
     "output_type": "stream",
     "text": [
      "2025-03-19 17:30:56,513 INFO Starting job - ASE EMT relaxer 0.0300 (6d50d2c8-eb25-430e-ad0d-00842c9904fc)\n"
     ]
    },
    {
     "name": "stderr",
     "output_type": "stream",
     "text": [
      "INFO:jobflow.core.job:Starting job - ASE EMT relaxer 0.0300 (6d50d2c8-eb25-430e-ad0d-00842c9904fc)\n"
     ]
    },
    {
     "name": "stdout",
     "output_type": "stream",
     "text": [
      "2025-03-19 17:30:56,557 INFO Finished job - ASE EMT relaxer 0.0300 (6d50d2c8-eb25-430e-ad0d-00842c9904fc)\n"
     ]
    },
    {
     "name": "stderr",
     "output_type": "stream",
     "text": [
      "INFO:jobflow.core.job:Finished job - ASE EMT relaxer 0.0300 (6d50d2c8-eb25-430e-ad0d-00842c9904fc)\n"
     ]
    },
    {
     "name": "stdout",
     "output_type": "stream",
     "text": [
      "2025-03-19 17:30:56,558 INFO Starting job - ASE EMT relaxer 0.0500 (39108a6a-9302-4863-ac65-7c1fc1b0b92c)\n"
     ]
    },
    {
     "name": "stderr",
     "output_type": "stream",
     "text": [
      "INFO:jobflow.core.job:Starting job - ASE EMT relaxer 0.0500 (39108a6a-9302-4863-ac65-7c1fc1b0b92c)\n"
     ]
    },
    {
     "name": "stdout",
     "output_type": "stream",
     "text": [
      "2025-03-19 17:30:56,602 INFO Finished job - ASE EMT relaxer 0.0500 (39108a6a-9302-4863-ac65-7c1fc1b0b92c)\n"
     ]
    },
    {
     "name": "stderr",
     "output_type": "stream",
     "text": [
      "INFO:jobflow.core.job:Finished job - ASE EMT relaxer 0.0500 (39108a6a-9302-4863-ac65-7c1fc1b0b92c)\n"
     ]
    },
    {
     "name": "stdout",
     "output_type": "stream",
     "text": [
      "2025-03-19 17:30:56,603 INFO Starting job - eos_fit (ad0896aa-341e-4504-a319-3cd697a2e823)\n"
     ]
    },
    {
     "name": "stderr",
     "output_type": "stream",
     "text": [
      "INFO:jobflow.core.job:Starting job - eos_fit (ad0896aa-341e-4504-a319-3cd697a2e823)\n"
     ]
    },
    {
     "name": "stdout",
     "output_type": "stream",
     "text": [
      "2025-03-19 17:30:56,712 INFO Finished job - eos_fit (ad0896aa-341e-4504-a319-3cd697a2e823)\n"
     ]
    },
    {
     "name": "stderr",
     "output_type": "stream",
     "text": [
      "INFO:jobflow.core.job:Finished job - eos_fit (ad0896aa-341e-4504-a319-3cd697a2e823)\n"
     ]
    },
    {
     "name": "stdout",
     "output_type": "stream",
     "text": [
      "2025-03-19 17:30:56,713 INFO Finished executing jobs locally\n"
     ]
    },
    {
     "name": "stderr",
     "output_type": "stream",
     "text": [
      "INFO:jobflow.managers.local:Finished executing jobs locally\n"
     ]
    },
    {
     "data": {
      "text/plain": [
       "{'eos_params': {'e0': 0.17872386719312902,\n",
       "  'v0': 58.821931806959974,\n",
       "  'b0': 0.6999071343385862,\n",
       "  'b1': 3.331984592394601},\n",
       " 'eos_model': 'vinet',\n",
       " 'energies': [0.4053215329904445,\n",
       "  0.3213887652213243,\n",
       "  0.25828357383787814,\n",
       "  0.21464135590433653,\n",
       "  0.18852339176691313,\n",
       "  0.17886140600517475],\n",
       " 'volumes': [53.0859974652209,\n",
       "  54.20359741185712,\n",
       "  55.32119735849335,\n",
       "  56.4387973051296,\n",
       "  57.556397251765816,\n",
       "  58.67399719840205]}"
      ]
     },
     "execution_count": 102,
     "metadata": {},
     "output_type": "execute_result"
    }
   ],
   "source": [
    "eos_job = AseEMTEos().make(intermetallic)\n",
    "eos_emt_resp = run_locally(eos_job)\n",
    "\n",
    "emt_uuid_to_job_name = {\n",
    "    job.uuid : job.name\n",
    "    for job in eos_job.jobs\n",
    "}\n",
    "emt_eos_output = {\n",
    "    name : eos_emt_resp[uuid][1].output\n",
    "    for uuid, name in emt_uuid_to_job_name.items()\n",
    "}\n",
    "emt_eos_output['eos_fit']"
   ]
  },
  {
   "cell_type": "markdown",
   "metadata": {},
   "source": [
    "### Challenge 2b: Modifying the output of the EMT job\n",
    "\n",
    "What other useful information could be included in either the output of `run_ase` or `make`?\n",
    "Modify the output of your EMT maker to include the forces or other useful information."
   ]
  }
 ],
 "metadata": {
  "kernelspec": {
   "display_name": "Python 3 (ipykernel)",
   "language": "python",
   "name": "python3"
  },
  "language_info": {
   "codemirror_mode": {
    "name": "ipython",
    "version": 3
   },
   "file_extension": ".py",
   "mimetype": "text/x-python",
   "name": "python",
   "nbconvert_exporter": "python",
   "pygments_lexer": "ipython3",
   "version": "3.12.9"
  }
 },
 "nbformat": 4,
 "nbformat_minor": 4
}
