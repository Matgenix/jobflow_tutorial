{
 "cells": [
  {
   "cell_type": "markdown",
   "id": "dbabd9be-a5d9-42f5-8dca-dd7dd9975f00",
   "metadata": {},
   "source": [
    "# Jobflow-remote introduction\n",
    "\n",
    "Jobflow-remote is a free, open-source library serving as a manager for the execution of [jobflow](https://materialsproject.github.io/jobflow/) workflows. Most of the information about how to set up and use jobflow-remote can be found in the [official documentation](https://matgenix.github.io/jobflow-remote/index.html).\n",
    "\n",
    "## Setting up jobflow-remote\n",
    "\n",
    "While the first set to use jobflow-remote would be to [set up the configuration file for one project](https://matgenix.github.io/jobflow-remote/user/install.html), in this tutorial all the configurations have already been performed. Nonetheless it may be helpfull to explore the content of the configuration yaml file that has been generated. The default location is in the `~/.jfremote` folder.\n",
    "A few important sections that you might want to check are:\n",
    "* `name`: the name of the project (note that while it is advisable that the configuration file has the same name as the project, this is not a constraint)\n",
    "* `workers`: the workers available for this project. In this case there are several workers available:\n",
    "  * `local_slurm`: submits jobs to the `slurm` container in its SLURM queue\n",
    "  * `local`: runs jobs directly in the `jupyter` container.\n",
    "* `queue`: the connection details to the MongoDB database containing the details about the Jobs execution\n",
    "* `jobstore`: the connection details to jobflow's `JobStore`, containing the Job's outputs\n",
    "* `exec_config`: common configurations required to execute Jobs on the workers."
   ]
  },
  {
   "cell_type": "code",
   "execution_count": 1,
   "id": "7e1930a0-45b4-45e6-98d1-04d40b46ad64",
   "metadata": {},
   "outputs": [
    {
     "name": "stdout",
     "output_type": "stream",
     "text": [
      "name: test_project\n",
      "base_dir: /home/jovyan/.jfremote/test_project\n",
      "log_level: debug\n",
      "runner:\n",
      "  delay_checkout: 10\n",
      "  delay_check_run_status: 10\n",
      "  delay_advance_status: 10\n",
      "  delay_update_batch: 10\n",
      "  max_step_attempts: 3\n",
      "  delta_retry:\n",
      "  - 10\n",
      "  - 20\n",
      "  - 30\n",
      "\n",
      "workers:\n",
      "  local_slurm:\n",
      "    scheduler_type: slurm\n",
      "    work_dir: /home/atomate/jobs\n",
      "    resources:\n",
      "    pre_run: \"source /home/atomate/.venv/bin/activate\"\n",
      "    post_run:\n",
      "    timeout_execute: 60\n",
      "    type: remote\n",
      "    host: slurm\n",
      "    user: atomate\n",
      "    port:\n",
      "    password: atomate\n",
      "  local_shell:\n",
      "    scheduler_type: shell\n",
      "    work_dir: /home/jovyan/jobs\n",
      "    pre_run: \"export PYTHONPATH=/home/jovyan/work/develop:$PYTHONPATH\"\n",
      "    type: local\n",
      "    max_jobs: 2\n",
      "\n",
      "queue:\n",
      "  store:\n",
      "    type: MongoStore\n",
      "    database: jobflow_remote\n",
      "    collection_name: jobs\n",
      "    host: mongodb\n",
      "    port: \n",
      "    username: ''\n",
      "    password: ''\n",
      "    ssh_tunnel:\n",
      "    safe_update: false\n",
      "    auth_source: jobflow_remote\n",
      "    mongoclient_kwargs: {}\n",
      "    default_sort:\n",
      "\n",
      "exec_config: {}\n",
      "\n",
      "jobstore:\n",
      "  docs_store:\n",
      "    type: MongoStore\n",
      "    database: jobflow_remote\n",
      "    collection_name: outputs\n",
      "    host: mongodb\n",
      "    port: \n",
      "    username: ''\n",
      "    password: ''\n",
      "    ssh_tunnel:\n",
      "    safe_update: false\n",
      "    auth_source: jobflow_remote\n",
      "    mongoclient_kwargs: {}\n",
      "    default_sort:\n",
      "  additional_stores:\n",
      "    data:\n",
      "      type: GridFSStore\n",
      "      database: jobflow_remote\n",
      "      collection_name: output_data\n",
      "      host: mongodb\n",
      "      port: \n",
      "      username: ''\n",
      "      password: ''\n",
      "      compression: false\n",
      "      ensure_metadata: false\n",
      "      searchable_fields: []\n",
      "      auth_source: jobflow_remote\n",
      "      mongoclient_kwargs: {}\n",
      "      ssh_tunnel:\n",
      "      key: _id\n",
      "  save: {}\n",
      "  load: false\n",
      "metadata:\n"
     ]
    }
   ],
   "source": [
    "!cat /home/jovyan/.jfremote/test_project.yaml # replace test_project with the PROJECTNAME value if you changed it"
   ]
  },
  {
   "cell_type": "markdown",
   "id": "634573b7-8b7a-4c96-b1ca-f4ed25084113",
   "metadata": {},
   "source": [
    "## The `jf` CLI\n",
    "\n",
    "Most of the interactions with jobflow-remote can be performed using the `jf` command line interface. It is usually executed from the shell, but can also be executed inside this notebook, prepending the command with an exlamation mark `!`.\n",
    "\n",
    "A first step would be to verify that the connections have been properly set up using the `jf project check` command. This will attempt to connect to the workers and the databases and perform few actions. Passing the checks does not guarantee that everything will work fine, but if the checks do not pass connection details need to be revised. \n",
    "The output should look like:\n",
    "```\n",
    "✓ Worker local_slurm\n",
    "✓ Worker local_shell\n",
    "✓ Jobstore\n",
    "✓ Queue store\n",
    "```"
   ]
  },
  {
   "cell_type": "code",
   "execution_count": 2,
   "id": "299d676c-40b1-4453-ac58-1dcba0f57f7f",
   "metadata": {},
   "outputs": [
    {
     "name": "stdout",
     "output_type": "stream",
     "text": [
      "The selected project is \u001b[32mtest_project\u001b[0m from config file \n",
      "\u001b[32m/home/jovyan/.jfremote/test_project.yaml\u001b[0m\n",
      "\u001b[2K\u001b[1;32m✓\u001b[0m Worker local_slurml_slurm\n",
      "\u001b[2K\u001b[1;32m✓\u001b[0m Worker local_shelll_shell\n",
      "\u001b[2K\u001b[1;32m✓\u001b[0m Jobstorer local_shell\n",
      "\u001b[2K\u001b[1;32m✓\u001b[0m Queue storeocal_shell\n",
      "\u001b[2K\u001b[32m⠇\u001b[0m Checking queue storeell\n",
      "\u001b[1A\u001b[2K"
     ]
    }
   ],
   "source": [
    "!jf project check"
   ]
  },
  {
   "cell_type": "markdown",
   "id": "59b2baeb-a45d-4675-8ca0-2c87b16c21e7",
   "metadata": {},
   "source": [
    "Once the connections are properly set, the queue database needs to be prepared with the `jf admin reset` command. This will add a few required documents to the DB and **remove all the Jobs and Flows** present in the database (here we us the `-f` option to avoid being asked for a confirmation)"
   ]
  },
  {
   "cell_type": "code",
   "execution_count": 3,
   "id": "8d9faa58-5970-4eb8-97e9-6f354d673f78",
   "metadata": {},
   "outputs": [
    {
     "name": "stdout",
     "output_type": "stream",
     "text": [
      "The selected project is \u001b[32mtest_project\u001b[0m from config file \n",
      "\u001b[32m/home/jovyan/.jfremote/test_project.yaml\u001b[0m\n",
      "\u001b[2K\u001b[32m⠋\u001b[0m Checking the Daemon status...\n",
      "\u001b[2K\u001b[32m⠸\u001b[0m Resetting the DB...\n",
      "\u001b[1A\u001b[2KThe database was reset\n"
     ]
    }
   ],
   "source": [
    "!jf admin reset -f"
   ]
  },
  {
   "cell_type": "markdown",
   "id": "956a80e5-71af-4ab0-aa5d-1449e5f9334b",
   "metadata": {},
   "source": [
    "It is now possible to check that no jobs or flow are present in the DB"
   ]
  },
  {
   "cell_type": "code",
   "execution_count": 4,
   "id": "b9e050ad-87c2-428a-80f7-a15827ef3979",
   "metadata": {},
   "outputs": [
    {
     "name": "stdout",
     "output_type": "stream",
     "text": [
      "The selected project is \u001b[32mtest_project\u001b[0m from config file \n",
      "\u001b[32m/home/jovyan/.jfremote/test_project.yaml\u001b[0m\n",
      "\u001b[2K\u001b[32m⠋\u001b[0m Processing...\n",
      "\u001b[1A\u001b[2K\u001b[3m                               Jobs info                               \u001b[0m\n",
      "┏━━━━━━━┳━━━━━━┳━━━━━━━┳━━━━━━━━━━━━━━━━┳━━━━━━━━┳━━━━━━━━━━━━━━━━━━━━┓\n",
      "┃\u001b[1m \u001b[0m\u001b[1mDB id\u001b[0m\u001b[1m \u001b[0m┃\u001b[1m \u001b[0m\u001b[1mName\u001b[0m\u001b[1m \u001b[0m┃\u001b[1m \u001b[0m\u001b[1mState\u001b[0m\u001b[1m \u001b[0m┃\u001b[1m \u001b[0m\u001b[1mJob id (Index)\u001b[0m\u001b[1m \u001b[0m┃\u001b[1m \u001b[0m\u001b[1mWorker\u001b[0m\u001b[1m \u001b[0m┃\u001b[1m \u001b[0m\u001b[1mLast updated [UTC]\u001b[0m\u001b[1m \u001b[0m┃\n",
      "┡━━━━━━━╇━━━━━━╇━━━━━━━╇━━━━━━━━━━━━━━━━╇━━━━━━━━╇━━━━━━━━━━━━━━━━━━━━┩\n",
      "└───────┴──────┴───────┴────────────────┴────────┴────────────────────┘\n"
     ]
    }
   ],
   "source": [
    "!jf job list"
   ]
  },
  {
   "cell_type": "code",
   "execution_count": 5,
   "id": "4362b3f2-2949-49bd-b7ea-8e22adf8be98",
   "metadata": {},
   "outputs": [
    {
     "name": "stdout",
     "output_type": "stream",
     "text": [
      "The selected project is \u001b[32mtest_project\u001b[0m from config file \n",
      "\u001b[32m/home/jovyan/.jfremote/test_project.yaml\u001b[0m\n",
      "\u001b[2K\u001b[32m⠋\u001b[0m Processing...\n",
      "\u001b[1A\u001b[2K\u001b[3m                            Flows info                            \u001b[0m\n",
      "┏━━━━━━━┳━━━━━━┳━━━━━━━┳━━━━━━━━━┳━━━━━━━━━━┳━━━━━━━━━━━━━━━━━━━━┓\n",
      "┃\u001b[1m \u001b[0m\u001b[1mDB id\u001b[0m\u001b[1m \u001b[0m┃\u001b[1m \u001b[0m\u001b[1mName\u001b[0m\u001b[1m \u001b[0m┃\u001b[1m \u001b[0m\u001b[1mState\u001b[0m\u001b[1m \u001b[0m┃\u001b[1m \u001b[0m\u001b[1mFlow id\u001b[0m\u001b[1m \u001b[0m┃\u001b[1m \u001b[0m\u001b[1mNum Jobs\u001b[0m\u001b[1m \u001b[0m┃\u001b[1m \u001b[0m\u001b[1mLast updated [UTC]\u001b[0m\u001b[1m \u001b[0m┃\n",
      "┡━━━━━━━╇━━━━━━╇━━━━━━━╇━━━━━━━━━╇━━━━━━━━━━╇━━━━━━━━━━━━━━━━━━━━┩\n",
      "└───────┴──────┴───────┴─────────┴──────────┴────────────────────┘\n"
     ]
    }
   ],
   "source": [
    "!jf flow list"
   ]
  },
  {
   "cell_type": "markdown",
   "id": "49a97c1c-fc64-4d17-885c-98a3a1ced914",
   "metadata": {},
   "source": [
    "<div class=\"alert alert-block alert-info\">\n",
    "<b>Tip</b>: All the commands have a <code>-h</code>/<code>--help</code> option that shows all the options for that command\n",
    "</div>"
   ]
  },
  {
   "cell_type": "code",
   "execution_count": 6,
   "id": "11eed89a-d92d-47cd-a213-1d82f1cc8e92",
   "metadata": {},
   "outputs": [
    {
     "name": "stdout",
     "output_type": "stream",
     "text": [
      "The selected project is \u001b[32mtest_project\u001b[0m from config file \n",
      "\u001b[32m/home/jovyan/.jfremote/test_project.yaml\u001b[0m\n",
      "\u001b[1m                                                                                \u001b[0m\n",
      "\u001b[1m \u001b[0m\u001b[1;33mUsage: \u001b[0m\u001b[1mjf job list [OPTIONS]\u001b[0m\u001b[1m                                                  \u001b[0m\u001b[1m \u001b[0m\n",
      "\u001b[1m                                                                                \u001b[0m\n",
      " Get the list of Jobs in the database.                                          \n",
      "                                                                                \n",
      "\u001b[2m╭─\u001b[0m\u001b[2m Options \u001b[0m\u001b[2m───────────────────────────────────────────────────────────────────\u001b[0m\u001b[2m─╮\u001b[0m\n",
      "\u001b[2m│\u001b[0m \u001b[1;36m-\u001b[0m\u001b[1;36m-job\u001b[0m\u001b[1;36m-id\u001b[0m           \u001b[1;32m-jid\u001b[0m        \u001b[1;33mTEXT                 \u001b[0m  One or more pair of    \u001b[2m│\u001b[0m\n",
      "\u001b[2m│\u001b[0m                                                       job ids (i.e. uuids)   \u001b[2m│\u001b[0m\n",
      "\u001b[2m│\u001b[0m                                                       and job index          \u001b[2m│\u001b[0m\n",
      "\u001b[2m│\u001b[0m                                                       formatted as           \u001b[2m│\u001b[0m\n",
      "\u001b[2m│\u001b[0m                                                       UUID:INDEX (e.g.       \u001b[2m│\u001b[0m\n",
      "\u001b[2m│\u001b[0m                                                       e1d66c4f-81db-4fff-bd… \u001b[2m│\u001b[0m\n",
      "\u001b[2m│\u001b[0m                                                       The index is mandatory \u001b[2m│\u001b[0m\n",
      "\u001b[2m│\u001b[0m                                                       \u001b[2m[default: None]       \u001b[0m \u001b[2m│\u001b[0m\n",
      "\u001b[2m│\u001b[0m \u001b[1;36m-\u001b[0m\u001b[1;36m-db\u001b[0m\u001b[1;36m-id\u001b[0m            \u001b[1;32m-did\u001b[0m        \u001b[1;33mTEXT                 \u001b[0m  One or more db ids     \u001b[2m│\u001b[0m\n",
      "\u001b[2m│\u001b[0m                                                       \u001b[2m[default: None]   \u001b[0m     \u001b[2m│\u001b[0m\n",
      "\u001b[2m│\u001b[0m \u001b[1;36m-\u001b[0m\u001b[1;36m-flow\u001b[0m\u001b[1;36m-id\u001b[0m          \u001b[1;32m-fid\u001b[0m        \u001b[1;33mTEXT                 \u001b[0m  One or more flow ids   \u001b[2m│\u001b[0m\n",
      "\u001b[2m│\u001b[0m                                                       \u001b[2m[default: None]     \u001b[0m   \u001b[2m│\u001b[0m\n",
      "\u001b[2m│\u001b[0m \u001b[1;36m-\u001b[0m\u001b[1;36m-state\u001b[0m            \u001b[1;32m-s\u001b[0m          \u001b[1;2;33m[\u001b[0m\u001b[1;33mWAITING\u001b[0m\u001b[1;2;33m|\u001b[0m\u001b[1;33mREADY\u001b[0m\u001b[1;2;33m|\u001b[0m\u001b[1;33mCHECKE\u001b[0m  One or more of the Job \u001b[2m│\u001b[0m\n",
      "\u001b[2m│\u001b[0m                                \u001b[1;33mD_OUT\u001b[0m\u001b[1;2;33m|\u001b[0m\u001b[1;33mUPLOADED\u001b[0m\u001b[1;2;33m|\u001b[0m\u001b[1;33mSUBMIT\u001b[0m  states                 \u001b[2m│\u001b[0m\n",
      "\u001b[2m│\u001b[0m                                \u001b[1;33mTED\u001b[0m\u001b[1;2;33m|\u001b[0m\u001b[1;33mRUNNING\u001b[0m\u001b[1;2;33m|\u001b[0m\u001b[1;33mTERMINATE\u001b[0m  \u001b[2m[default: None]       \u001b[0m \u001b[2m│\u001b[0m\n",
      "\u001b[2m│\u001b[0m                                \u001b[1;33mD\u001b[0m\u001b[1;2;33m|\u001b[0m\u001b[1;33mDOWNLOADED\u001b[0m\u001b[1;2;33m|\u001b[0m\u001b[1;33mREMOTE_E\u001b[0m                         \u001b[2m│\u001b[0m\n",
      "\u001b[2m│\u001b[0m                                \u001b[1;33mRROR\u001b[0m\u001b[1;2;33m|\u001b[0m\u001b[1;33mCOMPLETED\u001b[0m\u001b[1;2;33m|\u001b[0m\u001b[1;33mFAILED\u001b[0m                         \u001b[2m│\u001b[0m\n",
      "\u001b[2m│\u001b[0m                                \u001b[1;2;33m|\u001b[0m\u001b[1;33mPAUSED\u001b[0m\u001b[1;2;33m|\u001b[0m\u001b[1;33mSTOPPED\u001b[0m\u001b[1;2;33m|\u001b[0m\u001b[1;33mUSER_\u001b[0m                         \u001b[2m│\u001b[0m\n",
      "\u001b[2m│\u001b[0m                                \u001b[1;33mSTOPPED\u001b[0m\u001b[1;2;33m|\u001b[0m\u001b[1;33mBATCH_SUBMITT\u001b[0m                         \u001b[2m│\u001b[0m\n",
      "\u001b[2m│\u001b[0m                                \u001b[1;33mED\u001b[0m\u001b[1;2;33m|\u001b[0m\u001b[1;33mBATCH_RUNNING\u001b[0m\u001b[1;2;33m]\u001b[0m\u001b[1;33m    \u001b[0m                         \u001b[2m│\u001b[0m\n",
      "\u001b[2m│\u001b[0m \u001b[1;36m-\u001b[0m\u001b[1;36m-start\u001b[0m\u001b[1;36m-date\u001b[0m       \u001b[1;32m-sdate\u001b[0m      \u001b[1;2;33m[\u001b[0m\u001b[1;33m%Y-%m-%d\u001b[0m\u001b[1;2;33m|\u001b[0m\u001b[1;33m%Y-%m-%dT%H\u001b[0m  Initial date for last  \u001b[2m│\u001b[0m\n",
      "\u001b[2m│\u001b[0m                                \u001b[1;33m:%M:%S\u001b[0m\u001b[1;2;33m|\u001b[0m\u001b[1;33m%Y-%m-%d\u001b[0m\u001b[1;2;33m|\u001b[0m\u001b[1;33m%H:%M\u001b[0m  update field           \u001b[2m│\u001b[0m\n",
      "\u001b[2m│\u001b[0m                                \u001b[1;33m:%S\u001b[0m\u001b[1;2;33m|\u001b[0m\u001b[1;33m%H:%M:%S\u001b[0m\u001b[1;2;33m]\u001b[0m\u001b[1;33m        \u001b[0m  \u001b[2m[default: None]       \u001b[0m \u001b[2m│\u001b[0m\n",
      "\u001b[2m│\u001b[0m \u001b[1;36m-\u001b[0m\u001b[1;36m-end\u001b[0m\u001b[1;36m-date\u001b[0m         \u001b[1;32m-edate\u001b[0m      \u001b[1;2;33m[\u001b[0m\u001b[1;33m%Y-%m-%d\u001b[0m\u001b[1;2;33m|\u001b[0m\u001b[1;33m%Y-%m-%dT%H\u001b[0m  Final date for last    \u001b[2m│\u001b[0m\n",
      "\u001b[2m│\u001b[0m                                \u001b[1;33m:%M:%S\u001b[0m\u001b[1;2;33m|\u001b[0m\u001b[1;33m%Y-%m-%d      \u001b[0m  update field           \u001b[2m│\u001b[0m\n",
      "\u001b[2m│\u001b[0m                                \u001b[1;33m%H:%M:%S\u001b[0m\u001b[1;2;33m]\u001b[0m\u001b[1;33m            \u001b[0m  \u001b[2m[default: None]       \u001b[0m \u001b[2m│\u001b[0m\n",
      "\u001b[2m│\u001b[0m \u001b[1;36m-\u001b[0m\u001b[1;36m-name\u001b[0m             \u001b[1;32m-n\u001b[0m          \u001b[1;33mTEXT                 \u001b[0m  The name. Default is   \u001b[2m│\u001b[0m\n",
      "\u001b[2m│\u001b[0m                                                       an exact match, but    \u001b[2m│\u001b[0m\n",
      "\u001b[2m│\u001b[0m                                                       all conventions from   \u001b[2m│\u001b[0m\n",
      "\u001b[2m│\u001b[0m                                                       python fnmatch can be  \u001b[2m│\u001b[0m\n",
      "\u001b[2m│\u001b[0m                                                       used (e.g. *test*).    \u001b[2m│\u001b[0m\n",
      "\u001b[2m│\u001b[0m                                                       Using * wildcard may   \u001b[2m│\u001b[0m\n",
      "\u001b[2m│\u001b[0m                                                       requireenclosing the   \u001b[2m│\u001b[0m\n",
      "\u001b[2m│\u001b[0m                                                       search string in       \u001b[2m│\u001b[0m\n",
      "\u001b[2m│\u001b[0m                                                       quotation marks.       \u001b[2m│\u001b[0m\n",
      "\u001b[2m│\u001b[0m                                                       \u001b[2m[default: None]       \u001b[0m \u001b[2m│\u001b[0m\n",
      "\u001b[2m│\u001b[0m \u001b[1;36m-\u001b[0m\u001b[1;36m-metadata\u001b[0m         \u001b[1;32m-meta\u001b[0m       \u001b[1;33mDICTTYPE             \u001b[0m  A string representing  \u001b[2m│\u001b[0m\n",
      "\u001b[2m│\u001b[0m                                                       the metadata to be     \u001b[2m│\u001b[0m\n",
      "\u001b[2m│\u001b[0m                                                       queried. Can be either \u001b[2m│\u001b[0m\n",
      "\u001b[2m│\u001b[0m                                                       a list of comma        \u001b[2m│\u001b[0m\n",
      "\u001b[2m│\u001b[0m                                                       separated key=value    \u001b[2m│\u001b[0m\n",
      "\u001b[2m│\u001b[0m                                                       pairs or a string with \u001b[2m│\u001b[0m\n",
      "\u001b[2m│\u001b[0m                                                       the JSON               \u001b[2m│\u001b[0m\n",
      "\u001b[2m│\u001b[0m                                                       representation of a    \u001b[2m│\u001b[0m\n",
      "\u001b[2m│\u001b[0m                                                       dictionary containing  \u001b[2m│\u001b[0m\n",
      "\u001b[2m│\u001b[0m                                                       the mongoDB query for  \u001b[2m│\u001b[0m\n",
      "\u001b[2m│\u001b[0m                                                       the metadata           \u001b[2m│\u001b[0m\n",
      "\u001b[2m│\u001b[0m                                                       subdocument (e.g       \u001b[2m│\u001b[0m\n",
      "\u001b[2m│\u001b[0m                                                       '{\"key1.key2\": 1,      \u001b[2m│\u001b[0m\n",
      "\u001b[2m│\u001b[0m                                                       \"key3\": \"test\"}')      \u001b[2m│\u001b[0m\n",
      "\u001b[2m│\u001b[0m                                                       \u001b[2m[default: None]       \u001b[0m \u001b[2m│\u001b[0m\n",
      "\u001b[2m│\u001b[0m \u001b[1;36m-\u001b[0m\u001b[1;36m-days\u001b[0m             \u001b[1;32m-ds\u001b[0m         \u001b[1;33mINTEGER              \u001b[0m  Last update field is   \u001b[2m│\u001b[0m\n",
      "\u001b[2m│\u001b[0m                                                       in the last days       \u001b[2m│\u001b[0m\n",
      "\u001b[2m│\u001b[0m                                                       \u001b[2m[default: None]       \u001b[0m \u001b[2m│\u001b[0m\n",
      "\u001b[2m│\u001b[0m \u001b[1;36m-\u001b[0m\u001b[1;36m-hours\u001b[0m            \u001b[1;32m-hs\u001b[0m         \u001b[1;33mINTEGER              \u001b[0m  Last update field is   \u001b[2m│\u001b[0m\n",
      "\u001b[2m│\u001b[0m                                                       in the last hours      \u001b[2m│\u001b[0m\n",
      "\u001b[2m│\u001b[0m                                                       \u001b[2m[default: None]       \u001b[0m \u001b[2m│\u001b[0m\n",
      "\u001b[2m│\u001b[0m \u001b[1;36m-\u001b[0m\u001b[1;36m-worker\u001b[0m           \u001b[1;32m-wk\u001b[0m         \u001b[1;33mTEXT                 \u001b[0m  One or more worker     \u001b[2m│\u001b[0m\n",
      "\u001b[2m│\u001b[0m                                                       names                  \u001b[2m│\u001b[0m\n",
      "\u001b[2m│\u001b[0m                                                       \u001b[2m[default: None]       \u001b[0m \u001b[2m│\u001b[0m\n",
      "\u001b[2m│\u001b[0m \u001b[1;36m-\u001b[0m\u001b[1;36m-verbosity\u001b[0m        \u001b[1;32m-v\u001b[0m          \u001b[1;33mINTEGER              \u001b[0m  Set the verbosity of   \u001b[2m│\u001b[0m\n",
      "\u001b[2m│\u001b[0m                                                       the output. Multiple   \u001b[2m│\u001b[0m\n",
      "\u001b[2m│\u001b[0m                                                       \u001b[1;32m-v\u001b[0m options increase    \u001b[2m│\u001b[0m\n",
      "\u001b[2m│\u001b[0m                                                       the verbosity. (e.g.   \u001b[2m│\u001b[0m\n",
      "\u001b[2m│\u001b[0m                                                       \u001b[1;32m-vvv\u001b[0m)                  \u001b[2m│\u001b[0m\n",
      "\u001b[2m│\u001b[0m                                                       \u001b[2m[default: 0]          \u001b[0m \u001b[2m│\u001b[0m\n",
      "\u001b[2m│\u001b[0m \u001b[1;36m-\u001b[0m\u001b[1;36m-max\u001b[0m\u001b[1;36m-results\u001b[0m      \u001b[1;32m-m\u001b[0m          \u001b[1;33mINTEGER              \u001b[0m  Limit the maximum      \u001b[2m│\u001b[0m\n",
      "\u001b[2m│\u001b[0m                                                       number of returned     \u001b[2m│\u001b[0m\n",
      "\u001b[2m│\u001b[0m                                                       results. Set 0 for no  \u001b[2m│\u001b[0m\n",
      "\u001b[2m│\u001b[0m                                                       limit                  \u001b[2m│\u001b[0m\n",
      "\u001b[2m│\u001b[0m                                                       \u001b[2m[default: 100]        \u001b[0m \u001b[2m│\u001b[0m\n",
      "\u001b[2m│\u001b[0m \u001b[1;36m-\u001b[0m\u001b[1;36m-sort\u001b[0m                         \u001b[1;2;33m[\u001b[0m\u001b[1;33mcreated_on\u001b[0m\u001b[1;2;33m|\u001b[0m\u001b[1;33mupdated_o\u001b[0m  The field on which the \u001b[2m│\u001b[0m\n",
      "\u001b[2m│\u001b[0m                                \u001b[1;33mn\u001b[0m\u001b[1;2;33m|\u001b[0m\u001b[1;33mdb_id\u001b[0m\u001b[1;2;33m]\u001b[0m\u001b[1;33m             \u001b[0m  results will be        \u001b[2m│\u001b[0m\n",
      "\u001b[2m│\u001b[0m                                                       sorted. In descending  \u001b[2m│\u001b[0m\n",
      "\u001b[2m│\u001b[0m                                                       order                  \u001b[2m│\u001b[0m\n",
      "\u001b[2m│\u001b[0m                                                       \u001b[2m[default: updated_on] \u001b[0m \u001b[2m│\u001b[0m\n",
      "\u001b[2m│\u001b[0m \u001b[1;36m-\u001b[0m\u001b[1;36m-reverse\u001b[0m\u001b[1;36m-sort\u001b[0m     \u001b[1;32m-revs\u001b[0m       \u001b[1;33m                     \u001b[0m  Reverse the sorting    \u001b[2m│\u001b[0m\n",
      "\u001b[2m│\u001b[0m                                                       order                  \u001b[2m│\u001b[0m\n",
      "\u001b[2m│\u001b[0m \u001b[1;36m-\u001b[0m\u001b[1;36m-locked\u001b[0m           \u001b[1;32m-l\u001b[0m          \u001b[1;33m                     \u001b[0m  Select locked Jobs     \u001b[2m│\u001b[0m\n",
      "\u001b[2m│\u001b[0m \u001b[1;36m-\u001b[0m\u001b[1;36m-query\u001b[0m            \u001b[1;32m-q\u001b[0m          \u001b[1;33mDICTTYPE             \u001b[0m  A JSON string          \u001b[2m│\u001b[0m\n",
      "\u001b[2m│\u001b[0m                                                       representing a generic \u001b[2m│\u001b[0m\n",
      "\u001b[2m│\u001b[0m                                                       query in the form of a \u001b[2m│\u001b[0m\n",
      "\u001b[2m│\u001b[0m                                                       dictionary. Overrides  \u001b[2m│\u001b[0m\n",
      "\u001b[2m│\u001b[0m                                                       all other query        \u001b[2m│\u001b[0m\n",
      "\u001b[2m│\u001b[0m                                                       options. Requires      \u001b[2m│\u001b[0m\n",
      "\u001b[2m│\u001b[0m                                                       knowledge of the       \u001b[2m│\u001b[0m\n",
      "\u001b[2m│\u001b[0m                                                       internal structure of  \u001b[2m│\u001b[0m\n",
      "\u001b[2m│\u001b[0m                                                       the DB. Can be either  \u001b[2m│\u001b[0m\n",
      "\u001b[2m│\u001b[0m                                                       a list of comma        \u001b[2m│\u001b[0m\n",
      "\u001b[2m│\u001b[0m                                                       separated key=value    \u001b[2m│\u001b[0m\n",
      "\u001b[2m│\u001b[0m                                                       pairs or a string with \u001b[2m│\u001b[0m\n",
      "\u001b[2m│\u001b[0m                                                       the JSON               \u001b[2m│\u001b[0m\n",
      "\u001b[2m│\u001b[0m                                                       representation of a    \u001b[2m│\u001b[0m\n",
      "\u001b[2m│\u001b[0m                                                       dictionary containing  \u001b[2m│\u001b[0m\n",
      "\u001b[2m│\u001b[0m                                                       the mongoDB query that \u001b[2m│\u001b[0m\n",
      "\u001b[2m│\u001b[0m                                                       should be performed    \u001b[2m│\u001b[0m\n",
      "\u001b[2m│\u001b[0m                                                       (e.g '{\"key1.key2\": 1, \u001b[2m│\u001b[0m\n",
      "\u001b[2m│\u001b[0m                                                       \"key3\": \"test\"}')      \u001b[2m│\u001b[0m\n",
      "\u001b[2m│\u001b[0m                                                       \u001b[2m[default: None]       \u001b[0m \u001b[2m│\u001b[0m\n",
      "\u001b[2m│\u001b[0m \u001b[1;36m-\u001b[0m\u001b[1;36m-error\u001b[0m            \u001b[1;32m-e\u001b[0m          \u001b[1;33m                     \u001b[0m  Select the jobs in     \u001b[2m│\u001b[0m\n",
      "\u001b[2m│\u001b[0m                                                       FAILED and             \u001b[2m│\u001b[0m\n",
      "\u001b[2m│\u001b[0m                                                       REMOTE_ERROR state.    \u001b[2m│\u001b[0m\n",
      "\u001b[2m│\u001b[0m                                                       Incompatible with the  \u001b[2m│\u001b[0m\n",
      "\u001b[2m│\u001b[0m                                                       \u001b[1;36m-\u001b[0m\u001b[1;36m-state\u001b[0m option         \u001b[2m│\u001b[0m\n",
      "\u001b[2m│\u001b[0m \u001b[1;36m-\u001b[0m\u001b[1;36m-stored\u001b[0m\u001b[1;36m-data-key\u001b[0m  \u001b[1;32m-sdk\u001b[0m        \u001b[1;33mTEXT                 \u001b[0m  Key to be shown from   \u001b[2m│\u001b[0m\n",
      "\u001b[2m│\u001b[0m                                                       the stored_data field. \u001b[2m│\u001b[0m\n",
      "\u001b[2m│\u001b[0m                                                       \u001b[2m[default: None]       \u001b[0m \u001b[2m│\u001b[0m\n",
      "\u001b[2m│\u001b[0m \u001b[1;36m-\u001b[0m\u001b[1;36m-output\u001b[0m           \u001b[1;32m-o\u001b[0m          \u001b[1;33mTEXT                 \u001b[0m  Table columns to be    \u001b[2m│\u001b[0m\n",
      "\u001b[2m│\u001b[0m                                                       shown. Needs to be     \u001b[2m│\u001b[0m\n",
      "\u001b[2m│\u001b[0m                                                       specified as string    \u001b[2m│\u001b[0m\n",
      "\u001b[2m│\u001b[0m                                                       with comma separated   \u001b[2m│\u001b[0m\n",
      "\u001b[2m│\u001b[0m                                                       keys,                  \u001b[2m│\u001b[0m\n",
      "\u001b[2m│\u001b[0m                                                       e.g.'state,db_id,name… \u001b[2m│\u001b[0m\n",
      "\u001b[2m│\u001b[0m                                                       Overrides the          \u001b[2m│\u001b[0m\n",
      "\u001b[2m│\u001b[0m                                                       verbosity option. Can  \u001b[2m│\u001b[0m\n",
      "\u001b[2m│\u001b[0m                                                       also be set in the     \u001b[2m│\u001b[0m\n",
      "\u001b[2m│\u001b[0m                                                       config file. Available \u001b[2m│\u001b[0m\n",
      "\u001b[2m│\u001b[0m                                                       options are: db_id,    \u001b[2m│\u001b[0m\n",
      "\u001b[2m│\u001b[0m                                                       name, state, job_id,   \u001b[2m│\u001b[0m\n",
      "\u001b[2m│\u001b[0m                                                       worker, last_updated,  \u001b[2m│\u001b[0m\n",
      "\u001b[2m│\u001b[0m                                                       queue_id, run_time,    \u001b[2m│\u001b[0m\n",
      "\u001b[2m│\u001b[0m                                                       retry_time,            \u001b[2m│\u001b[0m\n",
      "\u001b[2m│\u001b[0m                                                       prev_state, locked,    \u001b[2m│\u001b[0m\n",
      "\u001b[2m│\u001b[0m                                                       lock_id, lock_time     \u001b[2m│\u001b[0m\n",
      "\u001b[2m│\u001b[0m                                                       \u001b[2m[default: None]       \u001b[0m \u001b[2m│\u001b[0m\n",
      "\u001b[2m│\u001b[0m \u001b[1;36m-\u001b[0m\u001b[1;36m-help\u001b[0m             \u001b[1;32m-h\u001b[0m          \u001b[1;33m                     \u001b[0m  Show this message and  \u001b[2m│\u001b[0m\n",
      "\u001b[2m│\u001b[0m                                                       exit.                  \u001b[2m│\u001b[0m\n",
      "\u001b[2m╰──────────────────────────────────────────────────────────────────────────────╯\u001b[0m\n",
      "\n"
     ]
    }
   ],
   "source": [
    "!jf job list -h"
   ]
  },
  {
   "cell_type": "markdown",
   "id": "e8f7072b-c594-4971-97eb-599adf5704c7",
   "metadata": {},
   "source": [
    "## The first Flow\n",
    "\n",
    "To start using jobflow-remote a Flow needs to be created and added to the DB. Several example Jobs can be found in the `jobflow-remote.testing` module (see the [source code](https://github.com/Matgenix/jobflow-remote/blob/develop/src/jobflow_remote/testing/__init__.py)) and can be used to compose a simple Flow.\n",
    "\n",
    "<div class=\"alert alert-block alert-warning\"><b>Warning:</b> To be executed by jobflow-remote the Job source code should be <b>available in the worker as well</b>. Thus, a simple Job with its source in the notebook will not be present in the worker and jobflow-remote is not able of running it. For this reason in these examples simple jobs included in jobflow-remote will be used.</div>\n"
   ]
  },
  {
   "cell_type": "code",
   "execution_count": 7,
   "id": "0c8a042e-8b68-475b-aaf0-7407e20636ed",
   "metadata": {},
   "outputs": [],
   "source": [
    "from jobflow import Flow\n",
    "from jobflow_remote.testing import add\n",
    "\n",
    "j1 = add(1, 2)\n",
    "j2 = add(j1.output, 4)\n",
    "\n",
    "flow1 = Flow([j1, j2])"
   ]
  },
  {
   "cell_type": "markdown",
   "id": "b8b710a0-61a6-464a-8ceb-de6caa2080f6",
   "metadata": {},
   "source": [
    "At this point the Flow has been create but it has not been inserted in the jobflow-remote database. To do so it is necessary to use the `submit_flow` function and choose a worker that will execute the Jobs. For this first example we will use the local worker `local_shell`. The function returns a list of the jobs unique ids that are used to identify them in the database (note that these are strings, even if usually representing integers)"
   ]
  },
  {
   "cell_type": "code",
   "execution_count": 8,
   "id": "2741c22a-22b1-4cb7-b91a-6d547835cc6e",
   "metadata": {},
   "outputs": [
    {
     "data": {
      "text/plain": [
       "['1', '2']"
      ]
     },
     "execution_count": 8,
     "metadata": {},
     "output_type": "execute_result"
    }
   ],
   "source": [
    "from jobflow_remote import submit_flow\n",
    "\n",
    "job_ids = submit_flow(flow1, worker=\"local_shell\")\n",
    "job_ids"
   ]
  },
  {
   "cell_type": "markdown",
   "id": "0aa06c7f-699d-437f-a5ed-23d6e90313cb",
   "metadata": {},
   "source": [
    "It is now possible to check the presence of the Jobs and Flow in the database using again the `jf` command line:"
   ]
  },
  {
   "cell_type": "code",
   "execution_count": 9,
   "id": "37d6ad08-6c3f-4da6-8333-d299c2ea1038",
   "metadata": {},
   "outputs": [
    {
     "name": "stdout",
     "output_type": "stream",
     "text": [
      "The selected project is \u001b[32mtest_project\u001b[0m from config file \n",
      "\u001b[32m/home/jovyan/.jfremote/test_project.yaml\u001b[0m\n",
      "\u001b[2K\u001b[32m⠋\u001b[0m Processing...\n",
      "\u001b[1A\u001b[2K\u001b[3m                                   Jobs info                                    \u001b[0m\n",
      "┏━━━━━━━┳━━━━━━┳━━━━━━━━━┳━━━━━━━━━━━━━━━━━━━┳━━━━━━━━━━━━━┳━━━━━━━━━━━━━━━━━━━┓\n",
      "┃\u001b[1m       \u001b[0m┃\u001b[1m      \u001b[0m┃\u001b[1m         \u001b[0m┃\u001b[1m                   \u001b[0m┃\u001b[1m             \u001b[0m┃\u001b[1m \u001b[0m\u001b[1mLast updated     \u001b[0m\u001b[1m \u001b[0m┃\n",
      "┃\u001b[1m \u001b[0m\u001b[1mDB id\u001b[0m\u001b[1m \u001b[0m┃\u001b[1m \u001b[0m\u001b[1mName\u001b[0m\u001b[1m \u001b[0m┃\u001b[1m \u001b[0m\u001b[1mState  \u001b[0m\u001b[1m \u001b[0m┃\u001b[1m \u001b[0m\u001b[1mJob id (Index)   \u001b[0m\u001b[1m \u001b[0m┃\u001b[1m \u001b[0m\u001b[1mWorker     \u001b[0m\u001b[1m \u001b[0m┃\u001b[1m \u001b[0m\u001b[1m[UTC]            \u001b[0m\u001b[1m \u001b[0m┃\n",
      "┡━━━━━━━╇━━━━━━╇━━━━━━━━━╇━━━━━━━━━━━━━━━━━━━╇━━━━━━━━━━━━━╇━━━━━━━━━━━━━━━━━━━┩\n",
      "│ 2     │ add  │ WAITING │ 10600b10-f8b1-45… │ local_shell │ 2025-04-11 15:30  │\n",
      "│       │      │         │ (1)               │             │                   │\n",
      "│ 1     │ add  │ READY   │ 4a2d2fc0-dd3d-45… │ local_shell │ 2025-04-11 15:30  │\n",
      "│       │      │         │ (1)               │             │                   │\n",
      "└───────┴──────┴─────────┴───────────────────┴─────────────┴───────────────────┘\n"
     ]
    }
   ],
   "source": [
    "!jf job list"
   ]
  },
  {
   "cell_type": "code",
   "execution_count": 10,
   "id": "1b245258-df89-4894-ab19-e6329277dbca",
   "metadata": {},
   "outputs": [
    {
     "name": "stdout",
     "output_type": "stream",
     "text": [
      "The selected project is \u001b[32mtest_project\u001b[0m from config file \n",
      "\u001b[32m/home/jovyan/.jfremote/test_project.yaml\u001b[0m\n",
      "\u001b[2K\u001b[32m⠋\u001b[0m Processing...\n",
      "\u001b[1A\u001b[2K\u001b[3m                                   Flows info                                   \u001b[0m\n",
      "┏━━━━━━━┳━━━━━━┳━━━━━━━┳━━━━━━━━━━━━━━━━━━━━━━━┳━━━━━━━━━━┳━━━━━━━━━━━━━━━━━━━━┓\n",
      "┃\u001b[1m \u001b[0m\u001b[1mDB id\u001b[0m\u001b[1m \u001b[0m┃\u001b[1m \u001b[0m\u001b[1mName\u001b[0m\u001b[1m \u001b[0m┃\u001b[1m \u001b[0m\u001b[1mState\u001b[0m\u001b[1m \u001b[0m┃\u001b[1m \u001b[0m\u001b[1mFlow id              \u001b[0m\u001b[1m \u001b[0m┃\u001b[1m \u001b[0m\u001b[1mNum Jobs\u001b[0m\u001b[1m \u001b[0m┃\u001b[1m \u001b[0m\u001b[1mLast updated [UTC]\u001b[0m\u001b[1m \u001b[0m┃\n",
      "┡━━━━━━━╇━━━━━━╇━━━━━━━╇━━━━━━━━━━━━━━━━━━━━━━━╇━━━━━━━━━━╇━━━━━━━━━━━━━━━━━━━━┩\n",
      "│ 1     │ Flow │ READY │ d40faa94-c3d8-4983-9… │ 2        │ 2025-04-11 15:30   │\n",
      "└───────┴──────┴───────┴───────────────────────┴──────────┴────────────────────┘\n"
     ]
    }
   ],
   "source": [
    "!jf flow list"
   ]
  },
  {
   "cell_type": "markdown",
   "id": "57eb5a66-1a52-4e8f-b066-e0dc66b05555",
   "metadata": {},
   "source": [
    "More detailed information on a single job can be obtained with the `jf job info` command. To identify a Job both the `uuid` and `db_id` can be used."
   ]
  },
  {
   "cell_type": "code",
   "execution_count": 11,
   "id": "1c0f2447-45e1-4acc-9428-1c49709b67ce",
   "metadata": {},
   "outputs": [
    {
     "name": "stdout",
     "output_type": "stream",
     "text": [
      "The selected project is \u001b[32mtest_project\u001b[0m from config file \n",
      "\u001b[32m/home/jovyan/.jfremote/test_project.yaml\u001b[0m\n",
      "\u001b[2K\u001b[32m⠋\u001b[0m Processing...\n",
      "\u001b[1A\u001b[2K\u001b[34m╭────────────────────────────────────────────────────────────╮\u001b[0m\n",
      "\u001b[34m│\u001b[0m      \u001b[3;33mdb_id\u001b[0m\u001b[31m =\u001b[0m \u001b[32m'2'\u001b[0m                                           \u001b[34m│\u001b[0m\n",
      "\u001b[34m│\u001b[0m       \u001b[3;33muuid\u001b[0m\u001b[31m =\u001b[0m \u001b[32m'10600b10-f8b1-45f5-98ce-f1fc0998dab5'\u001b[0m        \u001b[34m│\u001b[0m\n",
      "\u001b[34m│\u001b[0m      \u001b[3;33mindex\u001b[0m\u001b[31m =\u001b[0m \u001b[1;36m1\u001b[0m                                             \u001b[34m│\u001b[0m\n",
      "\u001b[34m│\u001b[0m       \u001b[3;33mname\u001b[0m\u001b[31m =\u001b[0m \u001b[32m'add'\u001b[0m                                         \u001b[34m│\u001b[0m\n",
      "\u001b[34m│\u001b[0m      \u001b[3;33mstate\u001b[0m\u001b[31m =\u001b[0m \u001b[32m'WAITING'\u001b[0m                                     \u001b[34m│\u001b[0m\n",
      "\u001b[34m│\u001b[0m     \u001b[3;33mremote\u001b[0m\u001b[31m =\u001b[0m \u001b[1m{\u001b[0m\u001b[32m'step_attempts'\u001b[0m: \u001b[1;36m0\u001b[0m, \u001b[32m'prerun_cleanup'\u001b[0m: \u001b[3;91mFalse\u001b[0m\u001b[1m}\u001b[0m \u001b[34m│\u001b[0m\n",
      "\u001b[34m│\u001b[0m \u001b[3;33mcreated_on\u001b[0m\u001b[31m =\u001b[0m \u001b[32m'2025-04-11 15:30'\u001b[0m                            \u001b[34m│\u001b[0m\n",
      "\u001b[34m│\u001b[0m \u001b[3;33mupdated_on\u001b[0m\u001b[31m =\u001b[0m \u001b[32m'2025-04-11 15:30'\u001b[0m                            \u001b[34m│\u001b[0m\n",
      "\u001b[34m│\u001b[0m   \u001b[3;33mmetadata\u001b[0m\u001b[31m =\u001b[0m \u001b[1m{\u001b[0m\u001b[1m}\u001b[0m                                            \u001b[34m│\u001b[0m\n",
      "\u001b[34m│\u001b[0m    \u001b[3;33mparents\u001b[0m\u001b[31m =\u001b[0m \u001b[1m[\u001b[0m\u001b[32m'4a2d2fc0-dd3d-45f9-96bd-3c9fb3f24cbe'\u001b[0m\u001b[1m]\u001b[0m      \u001b[34m│\u001b[0m\n",
      "\u001b[34m│\u001b[0m   \u001b[3;33mpriority\u001b[0m\u001b[31m =\u001b[0m \u001b[1;36m0\u001b[0m                                             \u001b[34m│\u001b[0m\n",
      "\u001b[34m│\u001b[0m     \u001b[3;33mworker\u001b[0m\u001b[31m =\u001b[0m \u001b[32m'local_shell'\u001b[0m                                 \u001b[34m│\u001b[0m\n",
      "\u001b[34m╰────────────────────────────────────────────────────────────╯\u001b[0m\n"
     ]
    }
   ],
   "source": [
    "!jf job info 2"
   ]
  },
  {
   "cell_type": "markdown",
   "id": "4e62528f-3f79-4aad-900d-8e998677bd1f",
   "metadata": {},
   "source": [
    "<div class=\"alert alert-block alert-info\">\n",
    "<b>Note</b>: more information can be printed if the previous commands are executed using the <code>-v</code> option to increase the verbosity. More <code>v</code>s further increase the verbosity (e.g. <code>-vvv</code>)\n",
    "</div>"
   ]
  },
  {
   "attachments": {},
   "cell_type": "markdown",
   "id": "2265ec8b-8aa1-4d52-8be9-458dcb787b62",
   "metadata": {},
   "source": [
    "## The Runner\n",
    "\n",
    "Once the Jobs are in the database, they will be executed by jobflow-remote. However, to do so, the Runner has to be activated. \n",
    "In jobflow-remote the Runner refers to one or more processes that handle the whole execution of the jobflow workflows, including the interaction with the worker and the writing of the outputs in the `JobStore`.\n",
    "\n",
    "![Runner schema](https://matgenix.github.io/jobflow-remote/_images/daemon_schema.svg)\n",
    "\n",
    "The Runner performs different tasks, mainly divided in\n",
    "1. checking out jobs from database to start a Flow execution\n",
    "2. updating the states of the Jobs in the queue database\n",
    "3. interacting with the worker hosts to upload/download files and check the job status\n",
    "4. inserting the output data in the output JobStore\n",
    "\n",
    "The runner can be activate with the `jf runner start` command. Its status can be checked with `jf runner status` and `jf runner info` and it can be stopped with `jf runner stop` or `jf runner shutdown`. The Runner **remains active until explicitly stopped**. "
   ]
  },
  {
   "cell_type": "code",
   "execution_count": 12,
   "id": "c0d67955-9c39-42cf-b8d8-5abc9b7258e7",
   "metadata": {},
   "outputs": [
    {
     "name": "stdout",
     "output_type": "stream",
     "text": [
      "The selected project is \u001b[32mtest_project\u001b[0m from config file \n",
      "\u001b[32m/home/jovyan/.jfremote/test_project.yaml\u001b[0m\n",
      "\u001b[2K\u001b[32m⠼\u001b[0m Starting the daemon...\n",
      "\u001b[1A\u001b[2K"
     ]
    }
   ],
   "source": [
    "!jf runner start"
   ]
  },
  {
   "cell_type": "code",
   "execution_count": 13,
   "id": "2f595284-a756-441d-a812-fc9c04dcd56e",
   "metadata": {},
   "outputs": [
    {
     "name": "stdout",
     "output_type": "stream",
     "text": [
      "The selected project is \u001b[32mtest_project\u001b[0m from config file \n",
      "\u001b[32m/home/jovyan/.jfremote/test_project.yaml\u001b[0m\n",
      "\u001b[2K\u001b[32m⠋\u001b[0m Processing...\n",
      "\u001b[1A\u001b[2KDaemon status: \u001b[32mrunning\u001b[0m\n"
     ]
    }
   ],
   "source": [
    "!jf runner status"
   ]
  },
  {
   "cell_type": "code",
   "execution_count": 14,
   "id": "8955f3a4-1c57-458c-ac6a-b961c8796286",
   "metadata": {},
   "outputs": [
    {
     "name": "stdout",
     "output_type": "stream",
     "text": [
      "The selected project is \u001b[32mtest_project\u001b[0m from config file \n",
      "\u001b[32m/home/jovyan/.jfremote/test_project.yaml\u001b[0m\n",
      "\u001b[2K\u001b[32m⠋\u001b[0m Processing...\n",
      "\u001b[1A\u001b[2K┏━━━━━━━━━━━━━━━━━━━━━━━━━━━━━━━━━━━━━━━━━━━━━━┳━━━━━━┳━━━━━━━━━┓\n",
      "┃\u001b[1m \u001b[0m\u001b[1mProcess                                     \u001b[0m\u001b[1m \u001b[0m┃\u001b[1m \u001b[0m\u001b[1mPID \u001b[0m\u001b[1m \u001b[0m┃\u001b[1m \u001b[0m\u001b[1mState  \u001b[0m\u001b[1m \u001b[0m┃\n",
      "┡━━━━━━━━━━━━━━━━━━━━━━━━━━━━━━━━━━━━━━━━━━━━━━╇━━━━━━╇━━━━━━━━━┩\n",
      "│ supervisord                                  │ 1104 │ RUNNING │\n",
      "│ runner_daemon_checkout:run_jobflow_checkout  │ 1105 │ RUNNING │\n",
      "│ runner_daemon_complete:run_jobflow_complete0 │ 1106 │ RUNNING │\n",
      "│ runner_daemon_queue:run_jobflow_queue        │ 1107 │ RUNNING │\n",
      "│ runner_daemon_transfer:run_jobflow_transfer0 │ 1108 │ RUNNING │\n",
      "└──────────────────────────────────────────────┴──────┴─────────┘\n",
      "\n",
      "Data about running runner in the DB:\n",
      "\u001b[34m╭───────────────────────────────────────────────────────────────╮\u001b[0m\n",
      "\u001b[34m│\u001b[0m     \u001b[3;33mdaemon_dir\u001b[0m\u001b[31m =\u001b[0m \u001b[32m'/home/jovyan/.jfremote/test_project/daemon'\u001b[0m \u001b[34m│\u001b[0m\n",
      "\u001b[34m│\u001b[0m       \u001b[3;33mhostname\u001b[0m\u001b[31m =\u001b[0m \u001b[32m'bdb994bf85fa'\u001b[0m                               \u001b[34m│\u001b[0m\n",
      "\u001b[34m│\u001b[0m    \u001b[3;33mlast_pinged\u001b[0m\u001b[31m =\u001b[0m \u001b[32m'2025-04-11 15:31'\u001b[0m                           \u001b[34m│\u001b[0m\n",
      "\u001b[34m│\u001b[0m    \u001b[3;33mmac_address\u001b[0m\u001b[31m =\u001b[0m \u001b[32m'02:42:ac:13:00:04'\u001b[0m                          \u001b[34m│\u001b[0m\n",
      "\u001b[34m│\u001b[0m   \u001b[3;33mproject_name\u001b[0m\u001b[31m =\u001b[0m \u001b[32m'test_project'\u001b[0m                               \u001b[34m│\u001b[0m\n",
      "\u001b[34m│\u001b[0m \u001b[3;33mrunner_options\u001b[0m\u001b[31m =\u001b[0m \u001b[1m{\u001b[0m                                            \u001b[34m│\u001b[0m\n",
      "\u001b[34m│\u001b[0m                      \u001b[32m'delay_checkout'\u001b[0m: \u001b[1;36m10\u001b[0m,                    \u001b[34m│\u001b[0m\n",
      "\u001b[34m│\u001b[0m                      \u001b[32m'delay_check_run_status'\u001b[0m: \u001b[1;36m10\u001b[0m,            \u001b[34m│\u001b[0m\n",
      "\u001b[34m│\u001b[0m                      \u001b[32m'delay_advance_status'\u001b[0m: \u001b[1;36m10\u001b[0m,              \u001b[34m│\u001b[0m\n",
      "\u001b[34m│\u001b[0m                      \u001b[32m'delay_refresh_limited'\u001b[0m: \u001b[1;36m600\u001b[0m,            \u001b[34m│\u001b[0m\n",
      "\u001b[34m│\u001b[0m                      \u001b[32m'delay_update_batch'\u001b[0m: \u001b[1;36m10\u001b[0m,                \u001b[34m│\u001b[0m\n",
      "\u001b[34m│\u001b[0m                      \u001b[32m'delay_ping_db'\u001b[0m: \u001b[1;36m7200\u001b[0m,                   \u001b[34m│\u001b[0m\n",
      "\u001b[34m│\u001b[0m                      \u001b[32m'lock_timeout'\u001b[0m: \u001b[1;36m86400\u001b[0m,                   \u001b[34m│\u001b[0m\n",
      "\u001b[34m│\u001b[0m                      \u001b[32m'delete_tmp_folder'\u001b[0m: \u001b[3;92mTrue\u001b[0m,               \u001b[34m│\u001b[0m\n",
      "\u001b[34m│\u001b[0m                      \u001b[32m'max_step_attempts'\u001b[0m: \u001b[1;36m3\u001b[0m,                  \u001b[34m│\u001b[0m\n",
      "\u001b[34m│\u001b[0m                      \u001b[32m'delta_retry'\u001b[0m: \u001b[1m[\u001b[0m\u001b[1;36m10\u001b[0m, \u001b[1;36m20\u001b[0m, \u001b[1;36m30\u001b[0m\u001b[1m]\u001b[0m              \u001b[34m│\u001b[0m\n",
      "\u001b[34m│\u001b[0m                  \u001b[1m}\u001b[0m                                            \u001b[34m│\u001b[0m\n",
      "\u001b[34m│\u001b[0m     \u001b[3;33mstart_time\u001b[0m\u001b[31m =\u001b[0m \u001b[32m'2025-04-11 15:31'\u001b[0m                           \u001b[34m│\u001b[0m\n",
      "\u001b[34m│\u001b[0m           \u001b[3;33muser\u001b[0m\u001b[31m =\u001b[0m \u001b[3;35mNone\u001b[0m                                         \u001b[34m│\u001b[0m\n",
      "\u001b[34m╰───────────────────────────────────────────────────────────────╯\u001b[0m\n"
     ]
    }
   ],
   "source": [
    "!jf runner info"
   ]
  },
  {
   "cell_type": "markdown",
   "id": "7289cb95-157c-4419-80af-ecc5ef93a3e7",
   "metadata": {},
   "source": [
    "If everything is running properly you can check the status of the Jobs in the queue. They should reach the `COMPLETED` state in few seconds."
   ]
  },
  {
   "cell_type": "code",
   "execution_count": 19,
   "id": "6faae2a1-356b-48e7-acea-edc4dd9966ca",
   "metadata": {},
   "outputs": [
    {
     "name": "stdout",
     "output_type": "stream",
     "text": [
      "The selected project is \u001b[32mtest_project\u001b[0m from config file \n",
      "\u001b[32m/home/jovyan/.jfremote/test_project.yaml\u001b[0m\n",
      "\u001b[2K\u001b[32m⠋\u001b[0m Processing...\n",
      "\u001b[1A\u001b[2K\u001b[3m                                   Jobs info                                    \u001b[0m\n",
      "┏━━━━━━━┳━━━━━━┳━━━━━━━━━━━┳━━━━━━━━━━━━━━━━━━┳━━━━━━━━━━━━━┳━━━━━━━━━━━━━━━━━━┓\n",
      "┃\u001b[1m       \u001b[0m┃\u001b[1m      \u001b[0m┃\u001b[1m           \u001b[0m┃\u001b[1m                  \u001b[0m┃\u001b[1m             \u001b[0m┃\u001b[1m \u001b[0m\u001b[1mLast updated    \u001b[0m\u001b[1m \u001b[0m┃\n",
      "┃\u001b[1m \u001b[0m\u001b[1mDB id\u001b[0m\u001b[1m \u001b[0m┃\u001b[1m \u001b[0m\u001b[1mName\u001b[0m\u001b[1m \u001b[0m┃\u001b[1m \u001b[0m\u001b[1mState    \u001b[0m\u001b[1m \u001b[0m┃\u001b[1m \u001b[0m\u001b[1mJob id (Index)  \u001b[0m\u001b[1m \u001b[0m┃\u001b[1m \u001b[0m\u001b[1mWorker     \u001b[0m\u001b[1m \u001b[0m┃\u001b[1m \u001b[0m\u001b[1m[UTC]           \u001b[0m\u001b[1m \u001b[0m┃\n",
      "┡━━━━━━━╇━━━━━━╇━━━━━━━━━━━╇━━━━━━━━━━━━━━━━━━╇━━━━━━━━━━━━━╇━━━━━━━━━━━━━━━━━━┩\n",
      "│ 2     │ add  │ COMPLETED │ 10600b10-f8b1-4… │ local_shell │ 2025-04-11 15:32 │\n",
      "│       │      │           │ (1)              │             │                  │\n",
      "│ 1     │ add  │ COMPLETED │ 4a2d2fc0-dd3d-4… │ local_shell │ 2025-04-11 15:31 │\n",
      "│       │      │           │ (1)              │             │                  │\n",
      "└───────┴──────┴───────────┴──────────────────┴─────────────┴──────────────────┘\n"
     ]
    }
   ],
   "source": [
    "!jf job list"
   ]
  },
  {
   "cell_type": "markdown",
   "id": "18e7e771-e71d-4106-b295-b6f61de27e2e",
   "metadata": {},
   "source": [
    "## Extracting results\n",
    "\n",
    "Once the Jobs are completed it is possible to extract their outputs. Jobflow-remote does not change this specific aspect of jobflow, so the results can still be extracted from the database using the `JobStore` object or direct database queries. The only difference would be to use jobflow-remote to get the properly configured instance of `JobStore` through the helper function `get_jobstore`. Remeber to **connect** the JobStore before using it."
   ]
  },
  {
   "cell_type": "code",
   "execution_count": 20,
   "id": "334c91d7-4476-4225-8533-6830ca66c733",
   "metadata": {},
   "outputs": [],
   "source": [
    "from jobflow_remote import get_jobstore\n",
    "\n",
    "jobstore = get_jobstore()\n",
    "jobstore.connect()"
   ]
  },
  {
   "cell_type": "markdown",
   "id": "3439182f-642d-47bf-b4ec-e5b3e5154ee3",
   "metadata": {},
   "source": [
    "Queries will be the same as for standard jobflow and results can be obtained with generic queries, or referring to the job `uuid`. In this case it may also be convenient to use jobflow-remote's `db_id`, which is stored in the outputs `metadata`:"
   ]
  },
  {
   "cell_type": "code",
   "execution_count": 21,
   "id": "a04dd347-71f0-41b7-b457-c2234a44abcb",
   "metadata": {},
   "outputs": [
    {
     "name": "stdout",
     "output_type": "stream",
     "text": [
      "Output from uuid:  7\n",
      "Output document from uuid:  {'_id': ObjectId('67f9361534cffa51d7095430'), 'uuid': '10600b10-f8b1-45f5-98ce-f1fc0998dab5', 'index': 1, 'output': 7, 'completed_at': '2025-04-11T15:32:18.607253', 'metadata': {'db_id': '2'}, 'hosts': ['d40faa94-c3d8-4983-9982-c859ca65a74b'], 'name': 'add', '@module': 'jobflow.core.schemas', '@class': 'JobStoreDocument', '@version': '0.1.19'}\n"
     ]
    }
   ],
   "source": [
    "print(\"Output from uuid: \", jobstore.get_output(uuid=j2.uuid))\n",
    "print(\"Output document from uuid: \", jobstore.query_one({\"metadata.db_id\": \"2\"}))"
   ]
  },
  {
   "cell_type": "markdown",
   "id": "f558065e-1d11-448d-886c-75539aba4e10",
   "metadata": {},
   "source": [
    "## Submitting to a queue based worker \n",
    "\n",
    "Since the previous Flow was executed on the local worker, that is based on the shell execution, no further information needed to be provided. However, to perform real simulations Jobs need to be submitted to queueing systems in the HPC centers (e.g. Slurm, PBS, ...). To do so it is necessary to specify which resources will be used. Let's create a new Flow and submit it to the `local_slurm` worker. Since the scheduler in this worker is Slurm, some of the standard Slurm input options can be used\n",
    "\n",
    "<div class=\"alert alert-block alert-info\">\n",
    "The handling of the submission to the scheduler is delegated to <a href=\"https://matgenix.github.io/qtoolkit/\">qtoolkit</a>. The available keywords can be checked in the <a href=\"https://github.com/Matgenix/qtoolkit/blob/bcb445b903f3cb78295aa7641944e0bade9a3fb8/src/qtoolkit/io/slurm.py#L150\">Slurm template</a> \n",
    "</div>"
   ]
  },
  {
   "cell_type": "code",
   "execution_count": 22,
   "id": "e0124ceb-7754-4700-a9f5-247daa09f430",
   "metadata": {},
   "outputs": [
    {
     "data": {
      "text/plain": [
       "['3', '4']"
      ]
     },
     "execution_count": 22,
     "metadata": {},
     "output_type": "execute_result"
    }
   ],
   "source": [
    "j3 = add(1, 2)\n",
    "j4 = add(j3.output, 4)\n",
    "\n",
    "flow2 = Flow([j3, j4])\n",
    "\n",
    "submit_flow(flow2, worker=\"local_slurm\", resources={\"nodes\": 1 , \"ntasks\": 1, \"time\": \"00:10:00\"})"
   ]
  },
  {
   "cell_type": "markdown",
   "id": "361786be-cd70-4861-a2a9-5d1484c3ec07",
   "metadata": {},
   "source": [
    "The execution may be slightly slower then in the previous case, since now files need to be transferred to the other machine and the Job is running through a queue."
   ]
  },
  {
   "cell_type": "code",
   "execution_count": null,
   "id": "cdd943e6-0051-45cc-9d3f-e3fd34d5886b",
   "metadata": {},
   "outputs": [],
   "source": [
    "!jf job list"
   ]
  },
  {
   "cell_type": "markdown",
   "id": "753fc03c-dc03-4c5d-a006-8902d438dc75",
   "metadata": {},
   "source": [
    "## Additional exercises\n",
    "\n",
    "* Try submitting a new Flow and stop the runner to verify that steps are not being perfomed when the runner is not active\n",
    "* Open the terminal in JupyterLab and try running the `jf` commands directly\n",
    "* Explore the functionalities available in the CLI: `jf --tree` for a tree representation of use the `-h` option to get list of subcommands and options\n",
    "* Explore options for filtering Jobs and Flows (`jf job list -h`, `jf flow list -h`).\n",
    "  * How do you select the job with `db_id` `1`? And with a specific `uuid`?\n",
    "  * How do you list all the `COMPLETED` jobs?\n",
    "  * How to tune the maximum number of displayed jobs and flows?\n",
    "  * Change the sorting order\n",
    "  * Filter jobs and flows by date.\n",
    "* Try submitting a more complex Flow. Composed or with dynamical actions (see the [test Jobs available in jobflow-remote](https://github.com/Matgenix/jobflow-remote/blob/develop/src/jobflow_remote/testing/__init__.py))\n",
    "* Get the [Mermaid](https://mermaid.js.org/) representation of a Flow. Use `jf flow graph --mermaid`. How do you specify the flow? You can use the generated text in [mermaid.live](https://mermaid.live) to view the graph.\n",
    "* In the JupyterLab terminal start the GUI with `jf gui` and open your browser at http://localhost:5001. Select the project and explore the functionalities."
   ]
  }
 ],
 "metadata": {
  "kernelspec": {
   "display_name": "Python 3 (ipykernel)",
   "language": "python",
   "name": "python3"
  },
  "language_info": {
   "codemirror_mode": {
    "name": "ipython",
    "version": 3
   },
   "file_extension": ".py",
   "mimetype": "text/x-python",
   "name": "python",
   "nbconvert_exporter": "python",
   "pygments_lexer": "ipython3",
   "version": "3.12.9"
  }
 },
 "nbformat": 4,
 "nbformat_minor": 5
}
